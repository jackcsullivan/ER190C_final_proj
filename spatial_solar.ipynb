{
 "cells": [
  {
   "cell_type": "code",
   "execution_count": 2,
   "metadata": {
    "collapsed": true
   },
   "outputs": [],
   "source": [
    "import pandas as pd\n",
    "import numpy as np\n",
    "from sklearn.neighbors import KNeighborsRegressor"
   ]
  },
  {
   "cell_type": "code",
   "execution_count": 32,
   "metadata": {
    "collapsed": false
   },
   "outputs": [],
   "source": [
    "bridgeport_df = pd.read_csv('data/solar_filtered/bridgeport_solar_filtered.csv', index_col='Unnamed: 0').loc[:, ['Glo Mod (Wh/m^2)']]\n",
    "jfk_df =pd.read_csv('data/solar_filtered/jfk_solar_filtered.csv', index_col='Unnamed: 0').loc[:, ['Glo Mod (Wh/m^2)']]\n",
    "laguardia_df = pd.read_csv('data/solar_filtered/laguardia_solar_filtered.csv', index_col='Unnamed: 0').loc[:, ['Glo Mod (Wh/m^2)']]\n",
    "newark_df = pd.read_csv('data/solar_filtered/newark_solar_filtered.csv', index_col='Unnamed: 0').loc[:, ['Glo Mod (Wh/m^2)']]\n",
    "li_macarthur_df = pd.read_csv('data/solar_filtered/li_macarthur_solar_filtered.csv', index_col='Unnamed: 0').loc[:, ['Glo Mod (Wh/m^2)']]\n",
    "p_duchess_df = pd.read_csv('data/solar_filtered/p_duchess_filtered.csv', index_col='Unnamed: 0').loc[:, ['Glo Mod (Wh/m^2)']]\n",
    "stewart_df =pd.read_csv('data/solar_filtered/stewart_filtered.csv', index_col='Unnamed: 0').loc[:, ['Glo Mod (Wh/m^2)']]\n",
    "white_plains_df = pd.read_csv('data/solar_filtered/white_plains_filtered.csv', index_col='Unnamed: 0').loc[:, ['Glo Mod (Wh/m^2)']]\n",
    "republic_df = pd.read_csv('data/solar_filtered/republic_filtered.csv', index_col='Unnamed: 0').loc[:, ['Glo Mod (Wh/m^2)']]\n",
    "caldwell_df = pd.read_csv('data/solar_filtered/caldwell_filtered.csv', index_col='Unnamed: 0').loc[:, ['Glo Mod (Wh/m^2)']]\n",
    "danbury_df = pd.read_csv('data/solar_filtered/danbury_filtered.csv', index_col='Unnamed: 0').loc[:, ['Glo Mod (Wh/m^2)']]"
   ]
  },
  {
   "cell_type": "code",
   "execution_count": 61,
   "metadata": {
    "collapsed": false
   },
   "outputs": [],
   "source": [
    "bridgeport_df['name'] = \"Bridgeport\"\n",
    "jfk_df['name'] = \"JFK\"\n",
    "laguardia_df['name'] = \"LAG\"\n",
    "newark_df['name'] = \"EWR\"\n",
    "li_macarthur_df['name'] = \"Macarthur\"\n",
    "p_duchess_df['name'] = \"p_duchess\"\n",
    "stewart_df['name'] = \"stewart\"\n",
    "white_plains_df['name'] = \"white_plains\"\n",
    "republic_df['name'] = \"republic\"\n",
    "caldwell_df['name'] = \"caldwell\"\n",
    "danbury_df['name'] = \"danbury\""
   ]
  },
  {
   "cell_type": "code",
   "execution_count": 62,
   "metadata": {
    "collapsed": false
   },
   "outputs": [
    {
     "data": {
      "text/html": [
       "<div>\n",
       "<style scoped>\n",
       "    .dataframe tbody tr th:only-of-type {\n",
       "        vertical-align: middle;\n",
       "    }\n",
       "\n",
       "    .dataframe tbody tr th {\n",
       "        vertical-align: top;\n",
       "    }\n",
       "\n",
       "    .dataframe thead th {\n",
       "        text-align: right;\n",
       "    }\n",
       "</style>\n",
       "<table border=\"1\" class=\"dataframe\">\n",
       "  <thead>\n",
       "    <tr style=\"text-align: right;\">\n",
       "      <th></th>\n",
       "      <th>Glo Mod (Wh/m^2)</th>\n",
       "      <th>name</th>\n",
       "    </tr>\n",
       "  </thead>\n",
       "  <tbody>\n",
       "    <tr>\n",
       "      <th>2008-06-02 10:00:00</th>\n",
       "      <td>800</td>\n",
       "      <td>danbury</td>\n",
       "    </tr>\n",
       "  </tbody>\n",
       "</table>\n",
       "</div>"
      ],
      "text/plain": [
       "                     Glo Mod (Wh/m^2)     name\n",
       "2008-06-02 10:00:00               800  danbury"
      ]
     },
     "execution_count": 62,
     "metadata": {},
     "output_type": "execute_result"
    }
   ],
   "source": [
    "danbury_df[danbury_df.index == \"2008-06-02 10:00:00\"]"
   ]
  },
  {
   "cell_type": "markdown",
   "metadata": {},
   "source": [
    "Include lat and lons with the solar irradiance values of the 11 neighbors we are using to predict the solar irradiance values for the empire state building hourly."
   ]
  },
  {
   "cell_type": "code",
   "execution_count": 38,
   "metadata": {
    "collapsed": false
   },
   "outputs": [
    {
     "data": {
      "text/html": [
       "<div>\n",
       "<style scoped>\n",
       "    .dataframe tbody tr th:only-of-type {\n",
       "        vertical-align: middle;\n",
       "    }\n",
       "\n",
       "    .dataframe tbody tr th {\n",
       "        vertical-align: top;\n",
       "    }\n",
       "\n",
       "    .dataframe thead th {\n",
       "        text-align: right;\n",
       "    }\n",
       "</style>\n",
       "<table border=\"1\" class=\"dataframe\">\n",
       "  <thead>\n",
       "    <tr style=\"text-align: right;\">\n",
       "      <th></th>\n",
       "      <th>name</th>\n",
       "      <th>lat</th>\n",
       "      <th>lon</th>\n",
       "    </tr>\n",
       "  </thead>\n",
       "  <tbody>\n",
       "    <tr>\n",
       "      <th>0</th>\n",
       "      <td>Macarthur</td>\n",
       "      <td>40.7830</td>\n",
       "      <td>-73.1000</td>\n",
       "    </tr>\n",
       "    <tr>\n",
       "      <th>1</th>\n",
       "      <td>EWR</td>\n",
       "      <td>40.7170</td>\n",
       "      <td>-74.1830</td>\n",
       "    </tr>\n",
       "    <tr>\n",
       "      <th>2</th>\n",
       "      <td>JFK</td>\n",
       "      <td>40.6500</td>\n",
       "      <td>-73.8000</td>\n",
       "    </tr>\n",
       "    <tr>\n",
       "      <th>3</th>\n",
       "      <td>LAG</td>\n",
       "      <td>40.7830</td>\n",
       "      <td>-70.8830</td>\n",
       "    </tr>\n",
       "    <tr>\n",
       "      <th>4</th>\n",
       "      <td>Bridgeport</td>\n",
       "      <td>41.1830</td>\n",
       "      <td>-73.1500</td>\n",
       "    </tr>\n",
       "    <tr>\n",
       "      <th>5</th>\n",
       "      <td>p_duchess</td>\n",
       "      <td>41.6330</td>\n",
       "      <td>-73.8830</td>\n",
       "    </tr>\n",
       "    <tr>\n",
       "      <th>6</th>\n",
       "      <td>stewart</td>\n",
       "      <td>41.5000</td>\n",
       "      <td>-74.1000</td>\n",
       "    </tr>\n",
       "    <tr>\n",
       "      <th>7</th>\n",
       "      <td>white_plains</td>\n",
       "      <td>41.0670</td>\n",
       "      <td>-73.7170</td>\n",
       "    </tr>\n",
       "    <tr>\n",
       "      <th>8</th>\n",
       "      <td>republic</td>\n",
       "      <td>40.7170</td>\n",
       "      <td>-73.4170</td>\n",
       "    </tr>\n",
       "    <tr>\n",
       "      <th>9</th>\n",
       "      <td>caldwell</td>\n",
       "      <td>40.8830</td>\n",
       "      <td>-74.2830</td>\n",
       "    </tr>\n",
       "    <tr>\n",
       "      <th>10</th>\n",
       "      <td>danbury</td>\n",
       "      <td>41.2400</td>\n",
       "      <td>-73.2800</td>\n",
       "    </tr>\n",
       "    <tr>\n",
       "      <th>11</th>\n",
       "      <td>empire_state_building</td>\n",
       "      <td>40.7484</td>\n",
       "      <td>73.9857</td>\n",
       "    </tr>\n",
       "  </tbody>\n",
       "</table>\n",
       "</div>"
      ],
      "text/plain": [
       "                     name      lat      lon\n",
       "0               Macarthur  40.7830 -73.1000\n",
       "1                     EWR  40.7170 -74.1830\n",
       "2                     JFK  40.6500 -73.8000\n",
       "3                     LAG  40.7830 -70.8830\n",
       "4              Bridgeport  41.1830 -73.1500\n",
       "5               p_duchess  41.6330 -73.8830\n",
       "6                 stewart  41.5000 -74.1000\n",
       "7            white_plains  41.0670 -73.7170\n",
       "8                republic  40.7170 -73.4170\n",
       "9                caldwell  40.8830 -74.2830\n",
       "10                danbury  41.2400 -73.2800\n",
       "11  empire_state_building  40.7484  73.9857"
      ]
     },
     "execution_count": 38,
     "metadata": {},
     "output_type": "execute_result"
    }
   ],
   "source": [
    "stations = pd.read_csv(\"stations.csv\").drop(columns=[\"id\", \"altitude (m)\"])\n",
    "stations"
   ]
  },
  {
   "cell_type": "code",
   "execution_count": 70,
   "metadata": {
    "collapsed": false
   },
   "outputs": [
    {
     "data": {
      "text/html": [
       "<div>\n",
       "<style scoped>\n",
       "    .dataframe tbody tr th:only-of-type {\n",
       "        vertical-align: middle;\n",
       "    }\n",
       "\n",
       "    .dataframe tbody tr th {\n",
       "        vertical-align: top;\n",
       "    }\n",
       "\n",
       "    .dataframe thead th {\n",
       "        text-align: right;\n",
       "    }\n",
       "</style>\n",
       "<table border=\"1\" class=\"dataframe\">\n",
       "  <thead>\n",
       "    <tr style=\"text-align: right;\">\n",
       "      <th></th>\n",
       "      <th>Glo Mod (Wh/m^2)</th>\n",
       "      <th>lat</th>\n",
       "      <th>lon</th>\n",
       "    </tr>\n",
       "  </thead>\n",
       "  <tbody>\n",
       "    <tr>\n",
       "      <th>0</th>\n",
       "      <td>802</td>\n",
       "      <td>41.183</td>\n",
       "      <td>-73.150</td>\n",
       "    </tr>\n",
       "    <tr>\n",
       "      <th>0</th>\n",
       "      <td>788</td>\n",
       "      <td>40.650</td>\n",
       "      <td>-73.800</td>\n",
       "    </tr>\n",
       "    <tr>\n",
       "      <th>0</th>\n",
       "      <td>777</td>\n",
       "      <td>40.783</td>\n",
       "      <td>-70.883</td>\n",
       "    </tr>\n",
       "    <tr>\n",
       "      <th>0</th>\n",
       "      <td>793</td>\n",
       "      <td>40.717</td>\n",
       "      <td>-74.183</td>\n",
       "    </tr>\n",
       "    <tr>\n",
       "      <th>0</th>\n",
       "      <td>803</td>\n",
       "      <td>40.783</td>\n",
       "      <td>-73.100</td>\n",
       "    </tr>\n",
       "    <tr>\n",
       "      <th>0</th>\n",
       "      <td>793</td>\n",
       "      <td>41.633</td>\n",
       "      <td>-73.883</td>\n",
       "    </tr>\n",
       "    <tr>\n",
       "      <th>0</th>\n",
       "      <td>793</td>\n",
       "      <td>41.500</td>\n",
       "      <td>-74.100</td>\n",
       "    </tr>\n",
       "    <tr>\n",
       "      <th>0</th>\n",
       "      <td>799</td>\n",
       "      <td>41.067</td>\n",
       "      <td>-73.717</td>\n",
       "    </tr>\n",
       "    <tr>\n",
       "      <th>0</th>\n",
       "      <td>795</td>\n",
       "      <td>40.717</td>\n",
       "      <td>-73.417</td>\n",
       "    </tr>\n",
       "    <tr>\n",
       "      <th>0</th>\n",
       "      <td>795</td>\n",
       "      <td>40.883</td>\n",
       "      <td>-74.283</td>\n",
       "    </tr>\n",
       "    <tr>\n",
       "      <th>0</th>\n",
       "      <td>800</td>\n",
       "      <td>41.240</td>\n",
       "      <td>-73.280</td>\n",
       "    </tr>\n",
       "  </tbody>\n",
       "</table>\n",
       "</div>"
      ],
      "text/plain": [
       "   Glo Mod (Wh/m^2)     lat     lon\n",
       "0               802  41.183 -73.150\n",
       "0               788  40.650 -73.800\n",
       "0               777  40.783 -70.883\n",
       "0               793  40.717 -74.183\n",
       "0               803  40.783 -73.100\n",
       "0               793  41.633 -73.883\n",
       "0               793  41.500 -74.100\n",
       "0               799  41.067 -73.717\n",
       "0               795  40.717 -73.417\n",
       "0               795  40.883 -74.283\n",
       "0               800  41.240 -73.280"
      ]
     },
     "execution_count": 70,
     "metadata": {},
     "output_type": "execute_result"
    }
   ],
   "source": [
    "X = pd.DataFrame()\n",
    "X = pd.concat([X, stations.merge(bridgeport_df[bridgeport_df.index == \"2008-06-02 10:00:00\"], on=\"name\")]).drop(columns=\"name\")\n",
    "X = pd.concat([X, stations.merge(jfk_df[jfk_df.index == \"2008-06-02 10:00:00\"], on=\"name\")]).drop(columns=\"name\")\n",
    "X = pd.concat([X, stations.merge(laguardia_df[laguardia_df.index == \"2008-06-02 10:00:00\"], on=\"name\")]).drop(columns=\"name\")\n",
    "X = pd.concat([X, stations.merge(newark_df[newark_df.index == \"2008-06-02 10:00:00\"], on=\"name\")]).drop(columns=\"name\")\n",
    "X = pd.concat([X, stations.merge(li_macarthur_df[li_macarthur_df.index == \"2008-06-02 10:00:00\"], on=\"name\")]).drop(columns=\"name\")\n",
    "X = pd.concat([X, stations.merge(p_duchess_df[p_duchess_df.index == \"2008-06-02 10:00:00\"], on=\"name\")]).drop(columns=\"name\")\n",
    "X = pd.concat([X, stations.merge(stewart_df[stewart_df.index == \"2008-06-02 10:00:00\"], on=\"name\")]).drop(columns=\"name\")\n",
    "X = pd.concat([X, stations.merge(white_plains_df[white_plains_df.index == \"2008-06-02 10:00:00\"], on=\"name\")]).drop(columns=\"name\")\n",
    "X = pd.concat([X, stations.merge(republic_df[republic_df.index == \"2008-06-02 10:00:00\"], on=\"name\")]).drop(columns=\"name\")\n",
    "X = pd.concat([X, stations.merge(caldwell_df[caldwell_df.index == \"2008-06-02 10:00:00\"], on=\"name\")]).drop(columns=\"name\")\n",
    "X = pd.concat([X, stations.merge(danbury_df[danbury_df.index == \"2008-06-02 10:00:00\"], on=\"name\")]).drop(columns=\"name\")\n",
    "X"
   ]
  },
  {
   "cell_type": "code",
   "execution_count": null,
   "metadata": {
    "collapsed": true
   },
   "outputs": [],
   "source": []
  },
  {
   "cell_type": "code",
   "execution_count": null,
   "metadata": {
    "collapsed": true
   },
   "outputs": [],
   "source": [
    "neigh = KNeighborsRegressor(n_neighbors=11)\n",
    "neigh.fit(X, y)"
   ]
  }
 ],
 "metadata": {
  "anaconda-cloud": {},
  "kernelspec": {
   "display_name": "Python [conda env:anaconda3]",
   "language": "python",
   "name": "conda-env-anaconda3-py"
  },
  "language_info": {
   "codemirror_mode": {
    "name": "ipython",
    "version": 3
   },
   "file_extension": ".py",
   "mimetype": "text/x-python",
   "name": "python",
   "nbconvert_exporter": "python",
   "pygments_lexer": "ipython3",
   "version": "3.5.2"
  },
  "toc": {
   "base_numbering": 1,
   "nav_menu": {},
   "number_sections": true,
   "sideBar": true,
   "skip_h1_title": false,
   "title_cell": "Table of Contents",
   "title_sidebar": "Contents",
   "toc_cell": false,
   "toc_position": {},
   "toc_section_display": true,
   "toc_window_display": false
  }
 },
 "nbformat": 4,
 "nbformat_minor": 1
}
