{
 "cells": [
  {
   "cell_type": "code",
   "execution_count": 1,
   "metadata": {
    "collapsed": true
   },
   "outputs": [],
   "source": [
    "import pandas as pd\n",
    "import numpy as np\n",
    "from sklearn.neighbors import KNeighborsRegressor"
   ]
  },
  {
   "cell_type": "code",
   "execution_count": 2,
   "metadata": {
    "collapsed": false
   },
   "outputs": [],
   "source": [
    "bridgeport_df = pd.read_csv('data/solar_filtered/bridgeport_solar_filtered.csv', index_col='Unnamed: 0').loc[:, ['Glo Mod (Wh/m^2)']]\n",
    "jfk_df =pd.read_csv('data/solar_filtered/jfk_solar_filtered.csv', index_col='Unnamed: 0').loc[:, ['Glo Mod (Wh/m^2)']]\n",
    "laguardia_df = pd.read_csv('data/solar_filtered/laguardia_solar_filtered.csv', index_col='Unnamed: 0').loc[:, ['Glo Mod (Wh/m^2)']]\n",
    "newark_df = pd.read_csv('data/solar_filtered/newark_solar_filtered.csv', index_col='Unnamed: 0').loc[:, ['Glo Mod (Wh/m^2)']]\n",
    "li_macarthur_df = pd.read_csv('data/solar_filtered/li_macarthur_solar_filtered.csv', index_col='Unnamed: 0').loc[:, ['Glo Mod (Wh/m^2)']]\n",
    "p_duchess_df = pd.read_csv('data/solar_filtered/p_duchess_filtered.csv', index_col='Unnamed: 0').loc[:, ['Glo Mod (Wh/m^2)']]\n",
    "stewart_df =pd.read_csv('data/solar_filtered/stewart_filtered.csv', index_col='Unnamed: 0').loc[:, ['Glo Mod (Wh/m^2)']]\n",
    "white_plains_df = pd.read_csv('data/solar_filtered/white_plains_filtered.csv', index_col='Unnamed: 0').loc[:, ['Glo Mod (Wh/m^2)']]\n",
    "republic_df = pd.read_csv('data/solar_filtered/republic_filtered.csv', index_col='Unnamed: 0').loc[:, ['Glo Mod (Wh/m^2)']]\n",
    "caldwell_df = pd.read_csv('data/solar_filtered/caldwell_filtered.csv', index_col='Unnamed: 0').loc[:, ['Glo Mod (Wh/m^2)']]\n",
    "danbury_df = pd.read_csv('data/solar_filtered/danbury_filtered.csv', index_col='Unnamed: 0').loc[:, ['Glo Mod (Wh/m^2)']]"
   ]
  },
  {
   "cell_type": "code",
   "execution_count": 3,
   "metadata": {
    "collapsed": false
   },
   "outputs": [],
   "source": [
    "bridgeport_df['name'] = \"Bridgeport\"\n",
    "jfk_df['name'] = \"JFK\"\n",
    "laguardia_df['name'] = \"LAG\"\n",
    "newark_df['name'] = \"EWR\"\n",
    "li_macarthur_df['name'] = \"Macarthur\"\n",
    "p_duchess_df['name'] = \"p_duchess\"\n",
    "stewart_df['name'] = \"stewart\"\n",
    "white_plains_df['name'] = \"white_plains\"\n",
    "republic_df['name'] = \"republic\"\n",
    "caldwell_df['name'] = \"caldwell\"\n",
    "danbury_df['name'] = \"danbury\""
   ]
  },
  {
   "cell_type": "code",
   "execution_count": 25,
   "metadata": {
    "collapsed": false
   },
   "outputs": [
    {
     "data": {
      "text/html": [
       "<div>\n",
       "<style scoped>\n",
       "    .dataframe tbody tr th:only-of-type {\n",
       "        vertical-align: middle;\n",
       "    }\n",
       "\n",
       "    .dataframe tbody tr th {\n",
       "        vertical-align: top;\n",
       "    }\n",
       "\n",
       "    .dataframe thead th {\n",
       "        text-align: right;\n",
       "    }\n",
       "</style>\n",
       "<table border=\"1\" class=\"dataframe\">\n",
       "  <thead>\n",
       "    <tr style=\"text-align: right;\">\n",
       "      <th></th>\n",
       "      <th>GHI</th>\n",
       "    </tr>\n",
       "    <tr>\n",
       "      <th>Timestamp</th>\n",
       "      <th></th>\n",
       "    </tr>\n",
       "  </thead>\n",
       "  <tbody>\n",
       "    <tr>\n",
       "      <th>2006-01-01 00:00:00</th>\n",
       "      <td>0.0</td>\n",
       "    </tr>\n",
       "    <tr>\n",
       "      <th>2006-01-01 01:00:00</th>\n",
       "      <td>0.0</td>\n",
       "    </tr>\n",
       "    <tr>\n",
       "      <th>2006-01-01 02:00:00</th>\n",
       "      <td>0.0</td>\n",
       "    </tr>\n",
       "    <tr>\n",
       "      <th>2006-01-01 03:00:00</th>\n",
       "      <td>0.0</td>\n",
       "    </tr>\n",
       "    <tr>\n",
       "      <th>2006-01-01 04:00:00</th>\n",
       "      <td>0.0</td>\n",
       "    </tr>\n",
       "    <tr>\n",
       "      <th>2006-01-01 05:00:00</th>\n",
       "      <td>0.0</td>\n",
       "    </tr>\n",
       "    <tr>\n",
       "      <th>2006-01-01 06:00:00</th>\n",
       "      <td>0.0</td>\n",
       "    </tr>\n",
       "    <tr>\n",
       "      <th>2006-01-01 07:00:00</th>\n",
       "      <td>0.0</td>\n",
       "    </tr>\n",
       "    <tr>\n",
       "      <th>2006-01-01 08:00:00</th>\n",
       "      <td>15.0</td>\n",
       "    </tr>\n",
       "    <tr>\n",
       "      <th>2006-01-01 09:00:00</th>\n",
       "      <td>48.5</td>\n",
       "    </tr>\n",
       "    <tr>\n",
       "      <th>2006-01-01 10:00:00</th>\n",
       "      <td>126.0</td>\n",
       "    </tr>\n",
       "    <tr>\n",
       "      <th>2006-01-01 11:00:00</th>\n",
       "      <td>125.5</td>\n",
       "    </tr>\n",
       "    <tr>\n",
       "      <th>2006-01-01 12:00:00</th>\n",
       "      <td>175.0</td>\n",
       "    </tr>\n",
       "    <tr>\n",
       "      <th>2006-01-01 13:00:00</th>\n",
       "      <td>194.0</td>\n",
       "    </tr>\n",
       "    <tr>\n",
       "      <th>2006-01-01 14:00:00</th>\n",
       "      <td>89.5</td>\n",
       "    </tr>\n",
       "    <tr>\n",
       "      <th>2006-01-01 15:00:00</th>\n",
       "      <td>90.5</td>\n",
       "    </tr>\n",
       "    <tr>\n",
       "      <th>2006-01-01 16:00:00</th>\n",
       "      <td>30.5</td>\n",
       "    </tr>\n",
       "    <tr>\n",
       "      <th>2006-01-01 17:00:00</th>\n",
       "      <td>0.0</td>\n",
       "    </tr>\n",
       "    <tr>\n",
       "      <th>2006-01-01 18:00:00</th>\n",
       "      <td>0.0</td>\n",
       "    </tr>\n",
       "    <tr>\n",
       "      <th>2006-01-01 19:00:00</th>\n",
       "      <td>0.0</td>\n",
       "    </tr>\n",
       "    <tr>\n",
       "      <th>2006-01-01 20:00:00</th>\n",
       "      <td>0.0</td>\n",
       "    </tr>\n",
       "    <tr>\n",
       "      <th>2006-01-01 21:00:00</th>\n",
       "      <td>0.0</td>\n",
       "    </tr>\n",
       "    <tr>\n",
       "      <th>2006-01-01 22:00:00</th>\n",
       "      <td>0.0</td>\n",
       "    </tr>\n",
       "    <tr>\n",
       "      <th>2006-01-01 23:00:00</th>\n",
       "      <td>0.0</td>\n",
       "    </tr>\n",
       "  </tbody>\n",
       "</table>\n",
       "</div>"
      ],
      "text/plain": [
       "                       GHI\n",
       "Timestamp                 \n",
       "2006-01-01 00:00:00    0.0\n",
       "2006-01-01 01:00:00    0.0\n",
       "2006-01-01 02:00:00    0.0\n",
       "2006-01-01 03:00:00    0.0\n",
       "2006-01-01 04:00:00    0.0\n",
       "2006-01-01 05:00:00    0.0\n",
       "2006-01-01 06:00:00    0.0\n",
       "2006-01-01 07:00:00    0.0\n",
       "2006-01-01 08:00:00   15.0\n",
       "2006-01-01 09:00:00   48.5\n",
       "2006-01-01 10:00:00  126.0\n",
       "2006-01-01 11:00:00  125.5\n",
       "2006-01-01 12:00:00  175.0\n",
       "2006-01-01 13:00:00  194.0\n",
       "2006-01-01 14:00:00   89.5\n",
       "2006-01-01 15:00:00   90.5\n",
       "2006-01-01 16:00:00   30.5\n",
       "2006-01-01 17:00:00    0.0\n",
       "2006-01-01 18:00:00    0.0\n",
       "2006-01-01 19:00:00    0.0\n",
       "2006-01-01 20:00:00    0.0\n",
       "2006-01-01 21:00:00    0.0\n",
       "2006-01-01 22:00:00    0.0\n",
       "2006-01-01 23:00:00    0.0"
      ]
     },
     "execution_count": 25,
     "metadata": {},
     "output_type": "execute_result"
    }
   ],
   "source": [
    "def get_nrel_data():\n",
    "    df = pd.DataFrame()\n",
    "    for year in range(2006, 2011):\n",
    "        year_df = pd.read_csv(\"data/statue_of_lib_data/1242368_40.69_-74.06_\" + str(year) + \".csv\", skiprows=2)\n",
    "        df = pd.concat([df, year_df])\n",
    "    df = df.groupby(by=[\"Year\", \"Month\", \"Day\", \"Hour\"]).mean().reset_index()\n",
    "    df['Timestamp'] = df['Year'].astype(str) + \"-\" + df['Month'].astype(str).apply(lambda x: x.zfill(2)) + \"-\" + df['Day'].astype(str).apply(lambda x: x.zfill(2)) + \" \" + df['Hour'].astype(str).apply(lambda x: x.zfill(2)) + \":00:00\" \n",
    "    df.set_index('Timestamp', inplace = True)\n",
    "    df.drop(columns=[\"Year\", \"Month\", \"Day\", \"Hour\", \"Minute\"], inplace=True)\n",
    "    return df\n",
    "\n",
    "stat_of_lib = get_nrel_data()\n",
    "stat_of_lib.head(24)"
   ]
  },
  {
   "cell_type": "markdown",
   "metadata": {},
   "source": [
    "Include lat and lons with the solar irradiance values of the 11 neighbors we are using to predict the solar irradiance values for the empire state building hourly."
   ]
  },
  {
   "cell_type": "code",
   "execution_count": 5,
   "metadata": {
    "collapsed": false
   },
   "outputs": [
    {
     "data": {
      "text/html": [
       "<div>\n",
       "<style scoped>\n",
       "    .dataframe tbody tr th:only-of-type {\n",
       "        vertical-align: middle;\n",
       "    }\n",
       "\n",
       "    .dataframe tbody tr th {\n",
       "        vertical-align: top;\n",
       "    }\n",
       "\n",
       "    .dataframe thead th {\n",
       "        text-align: right;\n",
       "    }\n",
       "</style>\n",
       "<table border=\"1\" class=\"dataframe\">\n",
       "  <thead>\n",
       "    <tr style=\"text-align: right;\">\n",
       "      <th></th>\n",
       "      <th>name</th>\n",
       "      <th>lat</th>\n",
       "      <th>lon</th>\n",
       "    </tr>\n",
       "  </thead>\n",
       "  <tbody>\n",
       "    <tr>\n",
       "      <th>0</th>\n",
       "      <td>Macarthur</td>\n",
       "      <td>40.783</td>\n",
       "      <td>-73.100</td>\n",
       "    </tr>\n",
       "    <tr>\n",
       "      <th>1</th>\n",
       "      <td>EWR</td>\n",
       "      <td>40.717</td>\n",
       "      <td>-74.183</td>\n",
       "    </tr>\n",
       "    <tr>\n",
       "      <th>2</th>\n",
       "      <td>JFK</td>\n",
       "      <td>40.650</td>\n",
       "      <td>-73.800</td>\n",
       "    </tr>\n",
       "    <tr>\n",
       "      <th>3</th>\n",
       "      <td>LAG</td>\n",
       "      <td>40.783</td>\n",
       "      <td>-70.883</td>\n",
       "    </tr>\n",
       "    <tr>\n",
       "      <th>4</th>\n",
       "      <td>Bridgeport</td>\n",
       "      <td>41.183</td>\n",
       "      <td>-73.150</td>\n",
       "    </tr>\n",
       "    <tr>\n",
       "      <th>5</th>\n",
       "      <td>p_duchess</td>\n",
       "      <td>41.633</td>\n",
       "      <td>-73.883</td>\n",
       "    </tr>\n",
       "    <tr>\n",
       "      <th>6</th>\n",
       "      <td>stewart</td>\n",
       "      <td>41.500</td>\n",
       "      <td>-74.100</td>\n",
       "    </tr>\n",
       "    <tr>\n",
       "      <th>7</th>\n",
       "      <td>white_plains</td>\n",
       "      <td>41.067</td>\n",
       "      <td>-73.717</td>\n",
       "    </tr>\n",
       "    <tr>\n",
       "      <th>8</th>\n",
       "      <td>republic</td>\n",
       "      <td>40.717</td>\n",
       "      <td>-73.417</td>\n",
       "    </tr>\n",
       "    <tr>\n",
       "      <th>9</th>\n",
       "      <td>caldwell</td>\n",
       "      <td>40.883</td>\n",
       "      <td>-74.283</td>\n",
       "    </tr>\n",
       "    <tr>\n",
       "      <th>10</th>\n",
       "      <td>danbury</td>\n",
       "      <td>41.240</td>\n",
       "      <td>-73.280</td>\n",
       "    </tr>\n",
       "    <tr>\n",
       "      <th>11</th>\n",
       "      <td>stat_of_lib</td>\n",
       "      <td>40.690</td>\n",
       "      <td>-74.060</td>\n",
       "    </tr>\n",
       "  </tbody>\n",
       "</table>\n",
       "</div>"
      ],
      "text/plain": [
       "            name     lat     lon\n",
       "0      Macarthur  40.783 -73.100\n",
       "1            EWR  40.717 -74.183\n",
       "2            JFK  40.650 -73.800\n",
       "3            LAG  40.783 -70.883\n",
       "4     Bridgeport  41.183 -73.150\n",
       "5      p_duchess  41.633 -73.883\n",
       "6        stewart  41.500 -74.100\n",
       "7   white_plains  41.067 -73.717\n",
       "8       republic  40.717 -73.417\n",
       "9       caldwell  40.883 -74.283\n",
       "10       danbury  41.240 -73.280\n",
       "11   stat_of_lib  40.690 -74.060"
      ]
     },
     "execution_count": 5,
     "metadata": {},
     "output_type": "execute_result"
    }
   ],
   "source": [
    "stations = pd.read_csv(\"stations.csv\").drop(columns=[\"id\", \"altitude (m)\"])\n",
    "stations"
   ]
  },
  {
   "cell_type": "code",
   "execution_count": 6,
   "metadata": {
    "collapsed": true
   },
   "outputs": [],
   "source": [
    "# ts is a string in the form of \"2008-06-02 10:00:00\".\n",
    "def get_knn_predict_for_ts(ts):\n",
    "    all_data = pd.DataFrame()\n",
    "    all_data = pd.concat([all_data, stations.merge(bridgeport_df[bridgeport_df.index == ts], on=\"name\")]).drop(columns=\"name\")\n",
    "    all_data = pd.concat([all_data, stations.merge(jfk_df[jfk_df.index == ts], on=\"name\")]).drop(columns=\"name\")\n",
    "    all_data = pd.concat([all_data, stations.merge(laguardia_df[laguardia_df.index == ts], on=\"name\")]).drop(columns=\"name\")\n",
    "    all_data = pd.concat([all_data, stations.merge(newark_df[newark_df.index == ts], on=\"name\")]).drop(columns=\"name\")\n",
    "    all_data = pd.concat([all_data, stations.merge(li_macarthur_df[li_macarthur_df.index == ts], on=\"name\")]).drop(columns=\"name\")\n",
    "    all_data = pd.concat([all_data, stations.merge(p_duchess_df[p_duchess_df.index == ts], on=\"name\")]).drop(columns=\"name\")\n",
    "    all_data = pd.concat([all_data, stations.merge(stewart_df[stewart_df.index == ts], on=\"name\")]).drop(columns=\"name\")\n",
    "    all_data = pd.concat([all_data, stations.merge(white_plains_df[white_plains_df.index == ts], on=\"name\")]).drop(columns=\"name\")\n",
    "    all_data = pd.concat([all_data, stations.merge(republic_df[republic_df.index == ts], on=\"name\")]).drop(columns=\"name\")\n",
    "    all_data = pd.concat([all_data, stations.merge(caldwell_df[caldwell_df.index == ts], on=\"name\")]).drop(columns=\"name\")\n",
    "    all_data = pd.concat([all_data, stations.merge(danbury_df[danbury_df.index == ts], on=\"name\")]).drop(columns=\"name\")\n",
    "    X = all_data.drop(columns=[\"Glo Mod (Wh/m^2)\"])\n",
    "    y = all_data.loc[:, [\"Glo Mod (Wh/m^2)\"]]\n",
    "    \n",
    "    neigh = KNeighborsRegressor(n_neighbors=11, weights=\"distance\")\n",
    "    neigh.fit(X, y)\n",
    "    return neigh.predict([[40.69, -74.06]])"
   ]
  },
  {
   "cell_type": "code",
   "execution_count": 7,
   "metadata": {
    "collapsed": false
   },
   "outputs": [
    {
     "name": "stdout",
     "output_type": "stream",
     "text": [
      "Predicted by KNN: 793.9888296649526\n",
      "Actual by NREL Model: 904.5\n"
     ]
    }
   ],
   "source": [
    "print(\"Predicted by KNN: \" + str(get_knn_predict_for_ts(\"2008-06-02 10:00:00\")[0][0]))\n",
    "print(\"Actual by NREL Model: \" + str(stat_of_lib[stat_of_lib.index == \"2008-06-02 10:00:00\"].iloc[0, 0]))"
   ]
  },
  {
   "cell_type": "markdown",
   "metadata": {},
   "source": [
    "Let's use this for a whole summer and observe how the predicted and actual global irradiance levels relate."
   ]
  },
  {
   "cell_type": "code",
   "execution_count": 29,
   "metadata": {
    "collapsed": false
   },
   "outputs": [],
   "source": [
    "from itertools import chain\n",
    "\n",
    "index_list = stat_of_lib.index.tolist()\n",
    "\n",
    "def get_knn_month_data(month):\n",
    "    def create_hour_list(month, hour):\n",
    "        start_index = index_list.index(\"2008-\" + str(month).zfill(2) + \"-01 \" + str(hour).zfill(2) + \":00:00\")\n",
    "        end_index = index_list.index(\"2008-\" + str(month+1).zfill(2) + \"-01 \" + str(hour).zfill(2) + \":00:00\")\n",
    "        return index_list[start_index:end_index:24]\n",
    "\n",
    "    ten_list, eleven_list, twelve_list, thirteen_list, fourteen_list, fifteen_list = create_hour_list(month, 10), create_hour_list(month, 11), create_hour_list(month, 12), create_hour_list(month, 13), create_hour_list(month, 14), create_hour_list(month, 15)\n",
    "    time_list = list(chain.from_iterable(zip(ten_list, eleven_list, twelve_list, thirteen_list, fourteen_list, fifteen_list)))\n",
    "\n",
    "\n",
    "    predictions = []\n",
    "    actuals = []\n",
    "    for ts in time_list:\n",
    "        predictions.append(get_knn_predict_for_ts(ts)[0][0])\n",
    "        actuals.append(stat_of_lib[stat_of_lib.index == ts].iloc[0, 0])\n",
    "    return time_list, predictions, actuals"
   ]
  },
  {
   "cell_type": "code",
   "execution_count": 30,
   "metadata": {
    "collapsed": false
   },
   "outputs": [],
   "source": [
    "import matplotlib.pyplot as plt\n",
    "\n",
    "def plot_knn(time_list, predictions, actuals, title):\n",
    "    plt.plot(time_list, predictions, label=\"Predicted\")\n",
    "    plt.scatter(time_list, actuals, label=\"Actual\")\n",
    "    plt.xticks([time_list[0], time_list[int(len(time_list)/2)], time_list[-1]])\n",
    "    plt.xlabel(\"Time\")\n",
    "    plt.xlabel(\"GHI (Wh/m^2)\")\n",
    "    plt.legend()\n",
    "    plt.title(title)\n",
    "\n",
    "    plt.show()"
   ]
  },
  {
   "cell_type": "markdown",
   "metadata": {},
   "source": [
    "### June 2008 KNN visualization"
   ]
  },
  {
   "cell_type": "code",
   "execution_count": 34,
   "metadata": {
    "collapsed": false
   },
   "outputs": [
    {
     "data": {
      "image/png": "[encoded data removed]",
      "text/plain": [
       "<Figure size 432x288 with 1 Axes>"
      ]
     },
     "metadata": {},
     "output_type": "display_data"
    }
   ],
   "source": [
    "june_time_list, june_predictions, june_actuals = get_knn_month_data(6)\n",
    "plot_knn(june_time_list, june_predictions, june_actuals, \"Month of June KNN comparison\")"
   ]
  },
  {
   "cell_type": "markdown",
   "metadata": {},
   "source": [
    "### January 2008 KNN visualization"
   ]
  },
  {
   "cell_type": "code",
   "execution_count": 35,
   "metadata": {
    "collapsed": false
   },
   "outputs": [
    {
     "data": {
      "image/png": "[encoded data removed]",
      "text/plain": [
       "<Figure size 432x288 with 1 Axes>"
      ]
     },
     "metadata": {},
     "output_type": "display_data"
    }
   ],
   "source": [
    "jan_time_list, jan_predictions, jan_actuals = get_knn_month_data(1)\n",
    "plot_knn(jan_time_list, jan_predictions, jan_actuals, \"Month of January KNN comparison\")"
   ]
  },
  {
   "cell_type": "code",
   "execution_count": null,
   "metadata": {
    "collapsed": true
   },
   "outputs": [],
   "source": []
  }
 ],
 "metadata": {
  "anaconda-cloud": {},
  "kernelspec": {
   "display_name": "Python [conda env:anaconda3]",
   "language": "python",
   "name": "conda-env-anaconda3-py"
  },
  "language_info": {
   "codemirror_mode": {
    "name": "ipython",
    "version": 3
   },
   "file_extension": ".py",
   "mimetype": "text/x-python",
   "name": "python",
   "nbconvert_exporter": "python",
   "pygments_lexer": "ipython3",
   "version": "3.5.2"
  },
  "toc": {
   "base_numbering": 1,
   "nav_menu": {},
   "number_sections": true,
   "sideBar": true,
   "skip_h1_title": false,
   "title_cell": "Table of Contents",
   "title_sidebar": "Contents",
   "toc_cell": false,
   "toc_position": {},
   "toc_section_display": true,
   "toc_window_display": false
  }
 },
 "nbformat": 4,
 "nbformat_minor": 1
}
