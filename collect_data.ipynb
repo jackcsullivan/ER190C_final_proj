{
 "cells": [
  {
   "cell_type": "code",
   "execution_count": 15,
   "metadata": {
    "collapsed": true
   },
   "outputs": [],
   "source": [
    "import pandas as pd\n",
    "import numpy as np\n",
    "import sys, os"
   ]
  },
  {
   "cell_type": "markdown",
   "metadata": {
    "collapsed": true
   },
   "source": [
    "# Pull in Observed Solar Radiation Data"
   ]
  },
  {
   "cell_type": "markdown",
   "metadata": {},
   "source": []
  },
  {
   "cell_type": "code",
   "execution_count": 16,
   "metadata": {
    "collapsed": true
   },
   "outputs": [],
   "source": [
    "def get_df(location_id):\n",
    "    df = pd.DataFrame()\n",
    "    for year in range(2006, 2011):\n",
    "        year_df = pd.read_csv(\"data/station_solar/NSRDB_StationData_19910101_20101231_\" + str(location_id) +\"/NSRDB_StationData_\" + str(year) +\"0101_\" + str(year) +\"1231_\" + str(location_id) +\".csv\")\n",
    "        df = pd.concat([df, year_df])\n",
    "    return df"
   ]
  },
  {
   "cell_type": "code",
   "execution_count": 17,
   "metadata": {
    "collapsed": true
   },
   "outputs": [],
   "source": [
    "# newark_df = get_df(725020)\n",
    "# laguardia_df = get_df(725030)\n",
    "# li_macarthur_df = get_df(725035)\n",
    "# bridgeport_df = get_df(725040)\n",
    "# jfk_df = get_df(744860)"
   ]
  },
  {
   "cell_type": "code",
   "execution_count": 18,
   "metadata": {
    "collapsed": true
   },
   "outputs": [],
   "source": [
    "p_duchess_df = get_df(725020)\n",
    "stewart_df = get_df(725038)\n",
    "white_plains_df = get_df(725037)\n",
    "republic_df = get_df(744864)\n",
    "caldwell_df = get_df(724094)\n",
    "danbury_df = get_df(725086)"
   ]
  },
  {
   "cell_type": "code",
   "execution_count": 19,
   "metadata": {
    "collapsed": true
   },
   "outputs": [],
   "source": [
    "# Number of rows is years * days * hours + leap_years * hours\n",
    "# assert newark_df.shape == (5*365*24 + 1*24, 49)\n",
    "# assert laguardia_df.shape == (5*365*24 + 1*24, 49)\n",
    "# assert li_macarthur_df.shape == (5*365*24 + 1*24, 49)\n",
    "# assert bridgeport_df.shape == (5*365*24 + 1*24, 49)\n",
    "# assert jfk_df.shape == (5*365*24 + 1*24, 49)"
   ]
  },
  {
   "cell_type": "code",
   "execution_count": 5,
   "metadata": {
    "collapsed": true
   },
   "outputs": [],
   "source": [
    "# Only run this if these csvs are not already created.\n",
    "\n",
    "# newark_df.to_csv('data/solar/newark_solar.csv')\n",
    "# laguardia_df.to_csv('data/solar/laguardia_solar.csv')\n",
    "# li_macarthur_df.to_csv('data/solar/li_macarthur_solar.csv')\n",
    "# bridgeport_df.to_csv('data/solar/bridgeport_solar.csv')\n",
    "# jfk_df.to_csv('data/solar/jfk_solar.csv')"
   ]
  },
  {
   "cell_type": "code",
   "execution_count": 20,
   "metadata": {
    "collapsed": true
   },
   "outputs": [],
   "source": [
    "p_duchess_df.to_csv('data/solar/p_duchess.csv')\n",
    "stewart_df.to_csv('data/solar/stewart.csv')\n",
    "white_plains_df.to_csv('data/solar/white_plains.csv')\n",
    "republic_df.to_csv('data/solar/republic.csv')\n",
    "caldwell_df.to_csv('data/solar/caldwell.csv')\n",
    "danbury_df.to_csv('data/solar/danbury.csv')"
   ]
  },
  {
   "cell_type": "markdown",
   "metadata": {},
   "source": [
    "# Preprocess Solar DataFrames"
   ]
  },
  {
   "cell_type": "markdown",
   "metadata": {},
   "source": [
    "### All solar features, will remove some."
   ]
  },
  {
   "cell_type": "code",
   "execution_count": 21,
   "metadata": {
    "collapsed": false
   },
   "outputs": [
    {
     "data": {
      "text/plain": [
       "Index(['Unnamed: 0', 'YYYY-MM-DD', 'HH:MM (LST)', 'Zenith (deg)',\n",
       "       'Azimuth (deg)', 'ETR (Wh/m^2)', 'ETRN (Wh/m^2)', 'Glo Mod (Wh/m^2)',\n",
       "       'Glo Mod Unc (%)', 'Glo Mod Source', 'Dir Mod (Wh/m^2)',\n",
       "       'Dir Mod Unc (%)', 'Dir Mod Source', 'Dif Mod (Wh/m^2)',\n",
       "       'Dif Mod Unc (%)', 'Dif Mod Source', 'Meas Glo (Wh/m^2)',\n",
       "       'Meas Glo Flg', 'Meas Dir (Wh/m^2)', 'Meas Dir Flg',\n",
       "       'Meas Dif (Wh/m^2)', 'Meas Dif Flg', 'TotCC (10ths)', 'TotCC Flg',\n",
       "       'OpqCC (10ths)', 'OpqCC Flg', 'Dry Bulb (C)', 'Dry Bulb Flg',\n",
       "       'Dew Pnt (C)', 'Dew Pnt Flg', 'Rel Hum (%)', 'Rel Hum Flg',\n",
       "       'Baro Press (mbar)', 'Baro Press Flg', 'Wind Speed (m/s)',\n",
       "       'Wind Speed Flg', 'Wind Dir (deg)', 'Wind Dir Flg', 'Hor Vis (m)',\n",
       "       'Hor Vis Flg', 'Ceil Hgt (m)', 'Ceil Hgt Flg', 'Liq Precip Depth (mm)',\n",
       "       'Liq Precip Depth Flg', 'Liq Precip Quantity (hours)',\n",
       "       'Liq Precip Quantity Flg', 'Precip Wat (cm)', 'Precip Wat Flg',\n",
       "       'AOD (unitless)', 'AOD Flg'],\n",
       "      dtype='object')"
      ]
     },
     "execution_count": 21,
     "metadata": {},
     "output_type": "execute_result"
    }
   ],
   "source": [
    "newark_df = pd.read_csv(\"data/solar/newark_solar.csv\")\n",
    "newark_df.columns"
   ]
  },
  {
   "cell_type": "code",
   "execution_count": 22,
   "metadata": {
    "collapsed": true
   },
   "outputs": [],
   "source": [
    "def filter_feats(df):\n",
    "    return df.loc[:, ['YYYY-MM-DD', 'HH:MM (LST)','ETR (Wh/m^2)', 'ETRN (Wh/m^2)',\n",
    "                              'Glo Mod (Wh/m^2)', 'Glo Mod Unc (%)', 'Dir Mod (Wh/m^2)', \n",
    "                              'Dir Mod Unc (%)', 'Dif Mod (Wh/m^2)', 'Dif Mod Unc (%)']]"
   ]
  },
  {
   "cell_type": "code",
   "execution_count": 23,
   "metadata": {
    "collapsed": true
   },
   "outputs": [],
   "source": [
    "def make_timestamp_str(row):\n",
    "    if str(row['HH:MM (LST)']) == '24:00':\n",
    "        string = str(pd.to_datetime(row['YYYY-MM-DD']) + pd.DateOffset(1))\n",
    "    else:\n",
    "        string = str(row['YYYY-MM-DD']) + ' ' + str(row['HH:MM (LST)'])\n",
    "    return str(pd.to_datetime(string))"
   ]
  },
  {
   "cell_type": "code",
   "execution_count": 24,
   "metadata": {
    "collapsed": true
   },
   "outputs": [],
   "source": [
    "def apply_timestamps_to_index(df):\n",
    "    df.index = df.apply(make_timestamp_str, axis=1)\n",
    "    return df"
   ]
  },
  {
   "cell_type": "code",
   "execution_count": 25,
   "metadata": {
    "collapsed": true
   },
   "outputs": [],
   "source": [
    "def preprocess(df):\n",
    "    df = filter_feats(df)\n",
    "    df = apply_timestamps_to_index(df)\n",
    "    df.drop(['YYYY-MM-DD', 'HH:MM (LST)'], axis=1, inplace=True)\n",
    "    df = df.iloc[23:-1]\n",
    "    return df"
   ]
  },
  {
   "cell_type": "code",
   "execution_count": 11,
   "metadata": {
    "collapsed": true
   },
   "outputs": [],
   "source": [
    "newark_df = preprocess(pd.read_csv(\"data/solar/newark_solar.csv\"))\n",
    "bridgeport_df = preprocess(pd.read_csv(\"data/solar/bridgeport_solar.csv\"))\n",
    "jfk_df = preprocess(pd.read_csv(\"data/solar/jfk_solar.csv\"))\n",
    "laguardia_df = preprocess(pd.read_csv(\"data/solar/laguardia_solar.csv\"))\n",
    "li_macarthur_df = preprocess(pd.read_csv(\"data/solar/li_macarthur_solar.csv\"))"
   ]
  },
  {
   "cell_type": "code",
   "execution_count": 27,
   "metadata": {
    "collapsed": true
   },
   "outputs": [],
   "source": [
    "p_duchess_df = preprocess(pd.read_csv('data/solar/p_duchess.csv'))\n",
    "stewart_df = preprocess(pd.read_csv('data/solar/stewart.csv'))\n",
    "white_plains_df = preprocess(pd.read_csv('data/solar/white_plains.csv'))\n",
    "republic_df = preprocess(pd.read_csv('data/solar/republic.csv'))\n",
    "caldwell_df = preprocess(pd.read_csv('data/solar/caldwell.csv'))\n",
    "danbury_df = preprocess(pd.read_csv('data/solar/danbury.csv'))"
   ]
  },
  {
   "cell_type": "code",
   "execution_count": 28,
   "metadata": {
    "collapsed": false
   },
   "outputs": [],
   "source": [
    "# newark_df.to_csv(\"./data/solar_filtered/newark_solar_filtered.csv\")\n",
    "# bridgeport_df.to_csv(\"./data/solar_filtered/bridgeport_solar_filtered.csv\")\n",
    "# jfk_df.to_csv(\"./data/solar_filtered/jfk_solar_filtered.csv\")\n",
    "# laguardia_df.to_csv(\"./data/solar_filtered/laguardia_solar_filtered.csv\")\n",
    "# li_macarthur_df.to_csv(\"./data/solar_filtered/li_macarthur_solar_filtered.csv\")"
   ]
  },
  {
   "cell_type": "code",
   "execution_count": 29,
   "metadata": {
    "collapsed": true
   },
   "outputs": [],
   "source": [
    "p_duchess_df.to_csv('data/solar_filtered/p_duchess_filtered.csv')\n",
    "stewart_df.to_csv('data/solar_filtered/stewart_filtered.csv')\n",
    "white_plains_df.to_csv('data/solar_filtered/white_plains_filtered.csv')\n",
    "republic_df.to_csv('data/solar_filtered/republic_filtered.csv')\n",
    "caldwell_df.to_csv('data/solar_filtered/caldwell_filtered.csv')\n",
    "danbury_df.to_csv('data/solar_filtered/danbury_filtered.csv')"
   ]
  },
  {
   "cell_type": "markdown",
   "metadata": {},
   "source": [
    "## Timestamp Hour Sanity Check"
   ]
  },
  {
   "cell_type": "code",
   "execution_count": 12,
   "metadata": {
    "collapsed": true
   },
   "outputs": [],
   "source": [
    "def get_days(df):\n",
    "    return df.iloc[::24]"
   ]
  },
  {
   "cell_type": "code",
   "execution_count": 13,
   "metadata": {
    "collapsed": true
   },
   "outputs": [],
   "source": [
    "days = get_days(newark_df)"
   ]
  },
  {
   "cell_type": "code",
   "execution_count": 14,
   "metadata": {
    "collapsed": false
   },
   "outputs": [
    {
     "data": {
      "text/html": [
       "<div>\n",
       "<style scoped>\n",
       "    .dataframe tbody tr th:only-of-type {\n",
       "        vertical-align: middle;\n",
       "    }\n",
       "\n",
       "    .dataframe tbody tr th {\n",
       "        vertical-align: top;\n",
       "    }\n",
       "\n",
       "    .dataframe thead th {\n",
       "        text-align: right;\n",
       "    }\n",
       "</style>\n",
       "<table border=\"1\" class=\"dataframe\">\n",
       "  <thead>\n",
       "    <tr style=\"text-align: right;\">\n",
       "      <th></th>\n",
       "      <th>ETR (Wh/m^2)</th>\n",
       "      <th>ETRN (Wh/m^2)</th>\n",
       "      <th>Glo Mod (Wh/m^2)</th>\n",
       "      <th>Glo Mod Unc (%)</th>\n",
       "      <th>Dir Mod (Wh/m^2)</th>\n",
       "      <th>Dir Mod Unc (%)</th>\n",
       "      <th>Dif Mod (Wh/m^2)</th>\n",
       "      <th>Dif Mod Unc (%)</th>\n",
       "    </tr>\n",
       "  </thead>\n",
       "  <tbody>\n",
       "    <tr>\n",
       "      <th>2006-01-02 00:00:00</th>\n",
       "      <td>0</td>\n",
       "      <td>0</td>\n",
       "      <td>0</td>\n",
       "      <td>0</td>\n",
       "      <td>0</td>\n",
       "      <td>0</td>\n",
       "      <td>0</td>\n",
       "      <td>0</td>\n",
       "    </tr>\n",
       "    <tr>\n",
       "      <th>2006-01-03 00:00:00</th>\n",
       "      <td>0</td>\n",
       "      <td>0</td>\n",
       "      <td>0</td>\n",
       "      <td>0</td>\n",
       "      <td>0</td>\n",
       "      <td>0</td>\n",
       "      <td>0</td>\n",
       "      <td>0</td>\n",
       "    </tr>\n",
       "    <tr>\n",
       "      <th>2006-01-04 00:00:00</th>\n",
       "      <td>0</td>\n",
       "      <td>0</td>\n",
       "      <td>0</td>\n",
       "      <td>0</td>\n",
       "      <td>0</td>\n",
       "      <td>0</td>\n",
       "      <td>0</td>\n",
       "      <td>0</td>\n",
       "    </tr>\n",
       "    <tr>\n",
       "      <th>2006-01-05 00:00:00</th>\n",
       "      <td>0</td>\n",
       "      <td>0</td>\n",
       "      <td>0</td>\n",
       "      <td>0</td>\n",
       "      <td>0</td>\n",
       "      <td>0</td>\n",
       "      <td>0</td>\n",
       "      <td>0</td>\n",
       "    </tr>\n",
       "    <tr>\n",
       "      <th>2006-01-06 00:00:00</th>\n",
       "      <td>0</td>\n",
       "      <td>0</td>\n",
       "      <td>0</td>\n",
       "      <td>0</td>\n",
       "      <td>0</td>\n",
       "      <td>0</td>\n",
       "      <td>0</td>\n",
       "      <td>0</td>\n",
       "    </tr>\n",
       "  </tbody>\n",
       "</table>\n",
       "</div>"
      ],
      "text/plain": [
       "                     ETR (Wh/m^2)  ETRN (Wh/m^2)  Glo Mod (Wh/m^2)  \\\n",
       "2006-01-02 00:00:00             0              0                 0   \n",
       "2006-01-03 00:00:00             0              0                 0   \n",
       "2006-01-04 00:00:00             0              0                 0   \n",
       "2006-01-05 00:00:00             0              0                 0   \n",
       "2006-01-06 00:00:00             0              0                 0   \n",
       "\n",
       "                     Glo Mod Unc (%)  Dir Mod (Wh/m^2)  Dir Mod Unc (%)  \\\n",
       "2006-01-02 00:00:00                0                 0                0   \n",
       "2006-01-03 00:00:00                0                 0                0   \n",
       "2006-01-04 00:00:00                0                 0                0   \n",
       "2006-01-05 00:00:00                0                 0                0   \n",
       "2006-01-06 00:00:00                0                 0                0   \n",
       "\n",
       "                     Dif Mod (Wh/m^2)  Dif Mod Unc (%)  \n",
       "2006-01-02 00:00:00                 0                0  \n",
       "2006-01-03 00:00:00                 0                0  \n",
       "2006-01-04 00:00:00                 0                0  \n",
       "2006-01-05 00:00:00                 0                0  \n",
       "2006-01-06 00:00:00                 0                0  "
      ]
     },
     "execution_count": 14,
     "metadata": {},
     "output_type": "execute_result"
    }
   ],
   "source": [
    "days.head()"
   ]
  },
  {
   "cell_type": "code",
   "execution_count": 15,
   "metadata": {
    "collapsed": true
   },
   "outputs": [],
   "source": [
    "day = newark_df['2006-07-01 00:00:00':'2006-07-01 23:00:00']"
   ]
  },
  {
   "cell_type": "code",
   "execution_count": 16,
   "metadata": {
    "collapsed": false
   },
   "outputs": [
    {
     "data": {
      "image/png": "[encoded data removed]",
      "text/plain": [
       "<Figure size 432x288 with 1 Axes>"
      ]
     },
     "metadata": {},
     "output_type": "display_data"
    }
   ],
   "source": [
    "import matplotlib.pyplot as plt\n",
    "\n",
    "plt.plot(range(1, 25), day['Glo Mod (Wh/m^2)']);\n",
    "plt.show()"
   ]
  },
  {
   "cell_type": "markdown",
   "metadata": {},
   "source": [
    "# Pull in Weather Data by Location"
   ]
  },
  {
   "cell_type": "code",
   "execution_count": 17,
   "metadata": {
    "collapsed": true
   },
   "outputs": [],
   "source": [
    "import weather"
   ]
  },
  {
   "cell_type": "code",
   "execution_count": 18,
   "metadata": {
    "collapsed": true
   },
   "outputs": [],
   "source": [
    "def get_weather_df(df, lat, lon, csv_name, tz='US/Eastern'):\n",
    "    error_days = []\n",
    "    weather_df = pd.DataFrame()\n",
    "    for i in get_days(df).index:\n",
    "        # print(i, len(error_days))\n",
    "        try:\n",
    "            temp_df = weather.get_hourly_weather(lat, lon, i, tz)\n",
    "            weather_df = pd.concat([weather_df, temp_df])\n",
    "        except Exception as e:\n",
    "            weather_df.to_csv(csv_name)\n",
    "            error_days.append((i, e))\n",
    "    weather_df.to_csv(csv_name)\n",
    "    return weather_df, error_days"
   ]
  },
  {
   "cell_type": "code",
   "execution_count": 20,
   "metadata": {
    "collapsed": false,
    "scrolled": false
   },
   "outputs": [],
   "source": [
    "# newark_weather_df, newark_weather_errs = get_weather_df(df, 40.717, -74.183, 'data/weather/newark_weather.csv')\n",
    "# bridgeport_weather_df, bridgeport_weather_errs = get_weather_df(bridgeport_df, 41.183, -73.15, 'data/weather/bridgeport_weather.csv')\n",
    "#print(str(1))\n",
    "# jfk_weather_df, jfk_weather_errs = get_weather_df(jfk_df, 40.65, -73.8, 'data/weather/jfk_weather.csv')\n",
    "#print(str(2))\n",
    "#laguardia_weather_df, laguardia_weather_errs = get_weather_df(laguardia_df, 40.783, -70.883, 'data/weather/laguardia_weather.csv')\n",
    "#print(str(3))\n",
    "#li_macarthur_weather_df, li_macarthur_weather_errs = get_weather_df(li_macarthur_df, 40.783, -73.1, 'data/weather/li_macarthur_weather.csv')"
   ]
  },
  {
   "cell_type": "code",
   "execution_count": null,
   "metadata": {
    "collapsed": false
   },
   "outputs": [],
   "source": [
    "# weather.get_hourly_weather(41.183, -73.15, \"2010-12-31 12:00:00\", 'US/Eastern')"
   ]
  },
  {
   "cell_type": "code",
   "execution_count": null,
   "metadata": {
    "collapsed": true
   },
   "outputs": [],
   "source": []
  },
  {
   "cell_type": "code",
   "execution_count": null,
   "metadata": {
    "collapsed": true
   },
   "outputs": [],
   "source": []
  }
 ],
 "metadata": {
  "anaconda-cloud": {},
  "kernelspec": {
   "display_name": "Python [default]",
   "language": "python",
   "name": "python3"
  },
  "language_info": {
   "codemirror_mode": {
    "name": "ipython",
    "version": 3
   },
   "file_extension": ".py",
   "mimetype": "text/x-python",
   "name": "python",
   "nbconvert_exporter": "python",
   "pygments_lexer": "ipython3",
   "version": "3.5.2"
  },
  "toc": {
   "base_numbering": 1,
   "nav_menu": {},
   "number_sections": true,
   "sideBar": true,
   "skip_h1_title": false,
   "title_cell": "Table of Contents",
   "title_sidebar": "Contents",
   "toc_cell": false,
   "toc_position": {},
   "toc_section_display": true,
   "toc_window_display": false
  }
 },
 "nbformat": 4,
 "nbformat_minor": 1
}
