{
 "cells": [
  {
   "cell_type": "code",
   "execution_count": 2,
   "metadata": {
    "collapsed": true
   },
   "outputs": [],
   "source": [
    "import pandas as pd\n",
    "import requests\n",
    "import matplotlib.pyplot as plt"
   ]
  },
  {
   "cell_type": "code",
   "execution_count": 3,
   "metadata": {
    "collapsed": true
   },
   "outputs": [],
   "source": [
    "url = 'https://api.darksky.net/forecast/c75fe89710b37b9fd1531010a8968ef1/37.870100,-122.257859,1543027140'\n",
    "resp = requests.get(url)"
   ]
  },
  {
   "cell_type": "code",
   "execution_count": 4,
   "metadata": {
    "collapsed": false
   },
   "outputs": [
    {
     "data": {
      "text/plain": [
       "200"
      ]
     },
     "execution_count": 4,
     "metadata": {},
     "output_type": "execute_result"
    }
   ],
   "source": [
    "resp.status_code"
   ]
  },
  {
   "cell_type": "code",
   "execution_count": 5,
   "metadata": {
    "collapsed": true
   },
   "outputs": [],
   "source": [
    "d = resp.json()"
   ]
  },
  {
   "cell_type": "code",
   "execution_count": 6,
   "metadata": {
    "collapsed": true
   },
   "outputs": [],
   "source": [
    "hour_lst = d['hourly']['data']"
   ]
  },
  {
   "cell_type": "code",
   "execution_count": 7,
   "metadata": {
    "collapsed": false
   },
   "outputs": [
    {
     "data": {
      "text/plain": [
       "24"
      ]
     },
     "execution_count": 7,
     "metadata": {},
     "output_type": "execute_result"
    }
   ],
   "source": [
    "len(hour_lst)"
   ]
  },
  {
   "cell_type": "code",
   "execution_count": 8,
   "metadata": {
    "collapsed": true
   },
   "outputs": [],
   "source": [
    "df = pd.read_csv('data.csv', index_col='Unnamed: 0')"
   ]
  },
  {
   "cell_type": "code",
   "execution_count": 9,
   "metadata": {
    "collapsed": true
   },
   "outputs": [],
   "source": [
    "hourly = df.iloc[::2]"
   ]
  },
  {
   "cell_type": "code",
   "execution_count": 10,
   "metadata": {
    "collapsed": true
   },
   "outputs": [],
   "source": [
    "hourly.to_csv('hourly_data.csv')"
   ]
  },
  {
   "cell_type": "code",
   "execution_count": 11,
   "metadata": {
    "collapsed": true
   },
   "outputs": [],
   "source": [
    "april = hourly.loc['2010-04-01 00:00:00': '2010-04-30 00:00:00']"
   ]
  },
  {
   "cell_type": "code",
   "execution_count": 12,
   "metadata": {
    "collapsed": true
   },
   "outputs": [],
   "source": [
    "hours = april.index\n",
    "days = april.iloc[::24]"
   ]
  },
  {
   "cell_type": "code",
   "execution_count": 13,
   "metadata": {
    "collapsed": true
   },
   "outputs": [],
   "source": [
    "timestamps = [pd.Timestamp(i,  tz='US/Central') for i in days.index]"
   ]
  },
  {
   "cell_type": "code",
   "execution_count": 14,
   "metadata": {
    "collapsed": true
   },
   "outputs": [],
   "source": [
    "ts = timestamps[0]"
   ]
  },
  {
   "cell_type": "code",
   "execution_count": 15,
   "metadata": {
    "collapsed": false
   },
   "outputs": [
    {
     "data": {
      "text/plain": [
       "1270098000"
      ]
     },
     "execution_count": 15,
     "metadata": {},
     "output_type": "execute_result"
    }
   ],
   "source": [
    "int(ts.value / (1*10**9))"
   ]
  },
  {
   "cell_type": "code",
   "execution_count": 16,
   "metadata": {
    "collapsed": true
   },
   "outputs": [],
   "source": [
    "def get_epoch(timestamp_str, tz='US/Pacific'):\n",
    "    ts = pd.Timestamp(timestamp_str,  tz=tz)\n",
    "    return int(ts.value / (1*10**9))"
   ]
  },
  {
   "cell_type": "code",
   "execution_count": 17,
   "metadata": {
    "collapsed": false
   },
   "outputs": [
    {
     "data": {
      "text/plain": [
       "[1270098000, 1270184400, 1270270800, 1270357200, 1270443600]"
      ]
     },
     "execution_count": 17,
     "metadata": {},
     "output_type": "execute_result"
    }
   ],
   "source": [
    "epochs = [get_epoch(t, tz='US/Central') for t in days.index]\n",
    "epochs[0:5]"
   ]
  },
  {
   "cell_type": "code",
   "execution_count": 18,
   "metadata": {
    "collapsed": true
   },
   "outputs": [],
   "source": [
    "def get_hourly_weather(lat, lon, timestamp_str, tz='US/Pacific', key='c75fe89710b37b9fd1531010a8968ef1'):\n",
    "    base_url = 'https://api.darksky.net/forecast/' + key + '/'\n",
    "    with_location = base_url + str(lat) + ',' + str(lon)\n",
    "    epoch = get_epoch(timestamp_str, tz)\n",
    "    with_time = with_location + ',' + str(epoch)\n",
    "    resp = requests.get(with_time)\n",
    "    if resp.status_code != 200:\n",
    "        raise RuntimeError('API call errored with code: ' + resp.status_code)\n",
    "    data_dict = resp.json()\n",
    "    daterange = pd.date_range(timestamp_str, periods=24, freq='1H')\n",
    "    df = pd.DataFrame(data_dict['hourly']['data'])\n",
    "    df.index = daterange\n",
    "    df = df.drop(columns=['time'])\n",
    "    return df"
   ]
  },
  {
   "cell_type": "code",
   "execution_count": 22,
   "metadata": {
    "collapsed": false
   },
   "outputs": [
    {
     "ename": "TypeError",
     "evalue": "Can't convert 'int' object to str implicitly",
     "output_type": "error",
     "traceback": [
      "\u001b[0;31m---------------------------------------------------------------------------\u001b[0m",
      "\u001b[0;31mTypeError\u001b[0m                                 Traceback (most recent call last)",
      "\u001b[0;32m<ipython-input-22-e2b25e9aa1b1>\u001b[0m in \u001b[0;36m<module>\u001b[0;34m()\u001b[0m\n\u001b[1;32m      3\u001b[0m \u001b[0mtimestamp_str\u001b[0m \u001b[0;34m=\u001b[0m \u001b[0;34m\"1991-01-01 00:00:00\"\u001b[0m\u001b[0;34m\u001b[0m\u001b[0m\n\u001b[1;32m      4\u001b[0m \u001b[0mtz\u001b[0m \u001b[0;34m=\u001b[0m \u001b[0;34m'US/Central'\u001b[0m\u001b[0;34m\u001b[0m\u001b[0m\n\u001b[0;32m----> 5\u001b[0;31m \u001b[0mdata\u001b[0m \u001b[0;34m=\u001b[0m \u001b[0mget_hourly_weather\u001b[0m\u001b[0;34m(\u001b[0m\u001b[0mlat\u001b[0m\u001b[0;34m,\u001b[0m \u001b[0mlon\u001b[0m\u001b[0;34m,\u001b[0m \u001b[0mtimestamp_str\u001b[0m\u001b[0;34m,\u001b[0m \u001b[0mtz\u001b[0m\u001b[0;34m)\u001b[0m\u001b[0;34m\u001b[0m\u001b[0m\n\u001b[0m",
      "\u001b[0;32m<ipython-input-18-c894e0379d1e>\u001b[0m in \u001b[0;36mget_hourly_weather\u001b[0;34m(lat, lon, timestamp_str, tz, key)\u001b[0m\n\u001b[1;32m      6\u001b[0m     \u001b[0mresp\u001b[0m \u001b[0;34m=\u001b[0m \u001b[0mrequests\u001b[0m\u001b[0;34m.\u001b[0m\u001b[0mget\u001b[0m\u001b[0;34m(\u001b[0m\u001b[0mwith_time\u001b[0m\u001b[0;34m)\u001b[0m\u001b[0;34m\u001b[0m\u001b[0m\n\u001b[1;32m      7\u001b[0m     \u001b[0;32mif\u001b[0m \u001b[0mresp\u001b[0m\u001b[0;34m.\u001b[0m\u001b[0mstatus_code\u001b[0m \u001b[0;34m!=\u001b[0m \u001b[0;36m200\u001b[0m\u001b[0;34m:\u001b[0m\u001b[0;34m\u001b[0m\u001b[0m\n\u001b[0;32m----> 8\u001b[0;31m         \u001b[0;32mraise\u001b[0m \u001b[0mRuntimeError\u001b[0m\u001b[0;34m(\u001b[0m\u001b[0;34m'API call errored with code: '\u001b[0m \u001b[0;34m+\u001b[0m \u001b[0mresp\u001b[0m\u001b[0;34m.\u001b[0m\u001b[0mstatus_code\u001b[0m\u001b[0;34m)\u001b[0m\u001b[0;34m\u001b[0m\u001b[0m\n\u001b[0m\u001b[1;32m      9\u001b[0m     \u001b[0mdata_dict\u001b[0m \u001b[0;34m=\u001b[0m \u001b[0mresp\u001b[0m\u001b[0;34m.\u001b[0m\u001b[0mjson\u001b[0m\u001b[0;34m(\u001b[0m\u001b[0;34m)\u001b[0m\u001b[0;34m\u001b[0m\u001b[0m\n\u001b[1;32m     10\u001b[0m     \u001b[0mdaterange\u001b[0m \u001b[0;34m=\u001b[0m \u001b[0mpd\u001b[0m\u001b[0;34m.\u001b[0m\u001b[0mdate_range\u001b[0m\u001b[0;34m(\u001b[0m\u001b[0mtimestamp_str\u001b[0m\u001b[0;34m,\u001b[0m \u001b[0mperiods\u001b[0m\u001b[0;34m=\u001b[0m\u001b[0;36m24\u001b[0m\u001b[0;34m,\u001b[0m \u001b[0mfreq\u001b[0m\u001b[0;34m=\u001b[0m\u001b[0;34m'1H'\u001b[0m\u001b[0;34m)\u001b[0m\u001b[0;34m\u001b[0m\u001b[0m\n",
      "\u001b[0;31mTypeError\u001b[0m: Can't convert 'int' object to str implicitly"
     ]
    }
   ],
   "source": [
    "lat = 37.870100\n",
    "lon = -122.257859\n",
    "timestamp_str = \"1991-01-01 00:00:00\"\n",
    "tz = 'US/Central'\n",
    "data = get_hourly_weather(lat, lon, timestamp_str, tz)"
   ]
  },
  {
   "cell_type": "code",
   "execution_count": 20,
   "metadata": {
    "collapsed": false
   },
   "outputs": [
    {
     "data": {
      "text/html": [
       "<div>\n",
       "<style scoped>\n",
       "    .dataframe tbody tr th:only-of-type {\n",
       "        vertical-align: middle;\n",
       "    }\n",
       "\n",
       "    .dataframe tbody tr th {\n",
       "        vertical-align: top;\n",
       "    }\n",
       "\n",
       "    .dataframe thead th {\n",
       "        text-align: right;\n",
       "    }\n",
       "</style>\n",
       "<table border=\"1\" class=\"dataframe\">\n",
       "  <thead>\n",
       "    <tr style=\"text-align: right;\">\n",
       "      <th></th>\n",
       "      <th>apparentTemperature</th>\n",
       "      <th>cloudCover</th>\n",
       "      <th>dewPoint</th>\n",
       "      <th>humidity</th>\n",
       "      <th>icon</th>\n",
       "      <th>precipIntensity</th>\n",
       "      <th>precipProbability</th>\n",
       "      <th>pressure</th>\n",
       "      <th>summary</th>\n",
       "      <th>temperature</th>\n",
       "      <th>uvIndex</th>\n",
       "      <th>visibility</th>\n",
       "      <th>windBearing</th>\n",
       "      <th>windSpeed</th>\n",
       "    </tr>\n",
       "  </thead>\n",
       "  <tbody>\n",
       "    <tr>\n",
       "      <th>1991-01-01 00:00:00</th>\n",
       "      <td>35.58</td>\n",
       "      <td>0.00</td>\n",
       "      <td>25.12</td>\n",
       "      <td>0.59</td>\n",
       "      <td>clear-night</td>\n",
       "      <td>0</td>\n",
       "      <td>0</td>\n",
       "      <td>1026.68</td>\n",
       "      <td>Clear</td>\n",
       "      <td>38.00</td>\n",
       "      <td>0</td>\n",
       "      <td>10.00</td>\n",
       "      <td>70</td>\n",
       "      <td>3.45</td>\n",
       "    </tr>\n",
       "    <tr>\n",
       "      <th>1991-01-01 01:00:00</th>\n",
       "      <td>36.13</td>\n",
       "      <td>0.00</td>\n",
       "      <td>25.82</td>\n",
       "      <td>0.66</td>\n",
       "      <td>clear-night</td>\n",
       "      <td>0</td>\n",
       "      <td>0</td>\n",
       "      <td>1026.68</td>\n",
       "      <td>Clear</td>\n",
       "      <td>36.13</td>\n",
       "      <td>0</td>\n",
       "      <td>7.36</td>\n",
       "      <td>85</td>\n",
       "      <td>2.24</td>\n",
       "    </tr>\n",
       "    <tr>\n",
       "      <th>1991-01-01 02:00:00</th>\n",
       "      <td>32.87</td>\n",
       "      <td>0.00</td>\n",
       "      <td>27.70</td>\n",
       "      <td>0.72</td>\n",
       "      <td>clear-night</td>\n",
       "      <td>0</td>\n",
       "      <td>0</td>\n",
       "      <td>1026.77</td>\n",
       "      <td>Clear</td>\n",
       "      <td>35.93</td>\n",
       "      <td>0</td>\n",
       "      <td>7.36</td>\n",
       "      <td>88</td>\n",
       "      <td>3.76</td>\n",
       "    </tr>\n",
       "    <tr>\n",
       "      <th>1991-01-01 03:00:00</th>\n",
       "      <td>31.32</td>\n",
       "      <td>0.00</td>\n",
       "      <td>27.48</td>\n",
       "      <td>0.71</td>\n",
       "      <td>clear-night</td>\n",
       "      <td>0</td>\n",
       "      <td>0</td>\n",
       "      <td>1026.81</td>\n",
       "      <td>Clear</td>\n",
       "      <td>35.99</td>\n",
       "      <td>0</td>\n",
       "      <td>7.36</td>\n",
       "      <td>63</td>\n",
       "      <td>5.56</td>\n",
       "    </tr>\n",
       "    <tr>\n",
       "      <th>1991-01-01 04:00:00</th>\n",
       "      <td>30.64</td>\n",
       "      <td>0.00</td>\n",
       "      <td>28.38</td>\n",
       "      <td>0.78</td>\n",
       "      <td>clear-night</td>\n",
       "      <td>0</td>\n",
       "      <td>0</td>\n",
       "      <td>1026.45</td>\n",
       "      <td>Clear</td>\n",
       "      <td>34.39</td>\n",
       "      <td>0</td>\n",
       "      <td>7.36</td>\n",
       "      <td>100</td>\n",
       "      <td>4.19</td>\n",
       "    </tr>\n",
       "    <tr>\n",
       "      <th>1991-01-01 05:00:00</th>\n",
       "      <td>31.85</td>\n",
       "      <td>0.00</td>\n",
       "      <td>28.13</td>\n",
       "      <td>0.77</td>\n",
       "      <td>clear-night</td>\n",
       "      <td>0</td>\n",
       "      <td>0</td>\n",
       "      <td>1026.22</td>\n",
       "      <td>Clear</td>\n",
       "      <td>34.74</td>\n",
       "      <td>0</td>\n",
       "      <td>7.36</td>\n",
       "      <td>129</td>\n",
       "      <td>3.45</td>\n",
       "    </tr>\n",
       "    <tr>\n",
       "      <th>1991-01-01 06:00:00</th>\n",
       "      <td>30.79</td>\n",
       "      <td>0.00</td>\n",
       "      <td>28.25</td>\n",
       "      <td>0.76</td>\n",
       "      <td>clear-night</td>\n",
       "      <td>0</td>\n",
       "      <td>0</td>\n",
       "      <td>1026.58</td>\n",
       "      <td>Clear</td>\n",
       "      <td>34.94</td>\n",
       "      <td>0</td>\n",
       "      <td>7.00</td>\n",
       "      <td>153</td>\n",
       "      <td>4.71</td>\n",
       "    </tr>\n",
       "    <tr>\n",
       "      <th>1991-01-01 07:00:00</th>\n",
       "      <td>30.20</td>\n",
       "      <td>0.06</td>\n",
       "      <td>25.79</td>\n",
       "      <td>0.83</td>\n",
       "      <td>clear-night</td>\n",
       "      <td>0</td>\n",
       "      <td>0</td>\n",
       "      <td>1027.07</td>\n",
       "      <td>Clear</td>\n",
       "      <td>30.20</td>\n",
       "      <td>0</td>\n",
       "      <td>7.43</td>\n",
       "      <td>113</td>\n",
       "      <td>2.11</td>\n",
       "    </tr>\n",
       "    <tr>\n",
       "      <th>1991-01-01 08:00:00</th>\n",
       "      <td>30.60</td>\n",
       "      <td>0.00</td>\n",
       "      <td>25.80</td>\n",
       "      <td>0.82</td>\n",
       "      <td>clear-day</td>\n",
       "      <td>0</td>\n",
       "      <td>0</td>\n",
       "      <td>1027.07</td>\n",
       "      <td>Clear</td>\n",
       "      <td>30.60</td>\n",
       "      <td>0</td>\n",
       "      <td>6.09</td>\n",
       "      <td>119</td>\n",
       "      <td>2.92</td>\n",
       "    </tr>\n",
       "    <tr>\n",
       "      <th>1991-01-01 09:00:00</th>\n",
       "      <td>36.30</td>\n",
       "      <td>0.00</td>\n",
       "      <td>29.89</td>\n",
       "      <td>0.77</td>\n",
       "      <td>clear-day</td>\n",
       "      <td>0</td>\n",
       "      <td>0</td>\n",
       "      <td>1027.06</td>\n",
       "      <td>Clear</td>\n",
       "      <td>36.30</td>\n",
       "      <td>0</td>\n",
       "      <td>5.79</td>\n",
       "      <td>120</td>\n",
       "      <td>2.55</td>\n",
       "    </tr>\n",
       "    <tr>\n",
       "      <th>1991-01-01 10:00:00</th>\n",
       "      <td>40.17</td>\n",
       "      <td>0.00</td>\n",
       "      <td>28.90</td>\n",
       "      <td>0.64</td>\n",
       "      <td>clear-day</td>\n",
       "      <td>0</td>\n",
       "      <td>0</td>\n",
       "      <td>1027.59</td>\n",
       "      <td>Clear</td>\n",
       "      <td>40.17</td>\n",
       "      <td>1</td>\n",
       "      <td>5.48</td>\n",
       "      <td>113</td>\n",
       "      <td>2.62</td>\n",
       "    </tr>\n",
       "    <tr>\n",
       "      <th>1991-01-01 11:00:00</th>\n",
       "      <td>40.44</td>\n",
       "      <td>0.11</td>\n",
       "      <td>29.46</td>\n",
       "      <td>0.59</td>\n",
       "      <td>clear-day</td>\n",
       "      <td>0</td>\n",
       "      <td>0</td>\n",
       "      <td>1027.45</td>\n",
       "      <td>Clear</td>\n",
       "      <td>42.80</td>\n",
       "      <td>2</td>\n",
       "      <td>6.31</td>\n",
       "      <td>93</td>\n",
       "      <td>4.13</td>\n",
       "    </tr>\n",
       "    <tr>\n",
       "      <th>1991-01-01 12:00:00</th>\n",
       "      <td>42.72</td>\n",
       "      <td>0.16</td>\n",
       "      <td>29.88</td>\n",
       "      <td>0.55</td>\n",
       "      <td>clear-day</td>\n",
       "      <td>0</td>\n",
       "      <td>0</td>\n",
       "      <td>1026.31</td>\n",
       "      <td>Clear</td>\n",
       "      <td>44.91</td>\n",
       "      <td>2</td>\n",
       "      <td>4.72</td>\n",
       "      <td>97</td>\n",
       "      <td>4.34</td>\n",
       "    </tr>\n",
       "    <tr>\n",
       "      <th>1991-01-01 13:00:00</th>\n",
       "      <td>46.06</td>\n",
       "      <td>0.32</td>\n",
       "      <td>29.94</td>\n",
       "      <td>0.51</td>\n",
       "      <td>partly-cloudy-day</td>\n",
       "      <td>0</td>\n",
       "      <td>0</td>\n",
       "      <td>1025.06</td>\n",
       "      <td>Partly Cloudy</td>\n",
       "      <td>47.01</td>\n",
       "      <td>2</td>\n",
       "      <td>5.27</td>\n",
       "      <td>100</td>\n",
       "      <td>3.24</td>\n",
       "    </tr>\n",
       "    <tr>\n",
       "      <th>1991-01-01 14:00:00</th>\n",
       "      <td>48.50</td>\n",
       "      <td>0.10</td>\n",
       "      <td>30.71</td>\n",
       "      <td>0.50</td>\n",
       "      <td>clear-day</td>\n",
       "      <td>0</td>\n",
       "      <td>0</td>\n",
       "      <td>1024.14</td>\n",
       "      <td>Clear</td>\n",
       "      <td>48.50</td>\n",
       "      <td>1</td>\n",
       "      <td>6.10</td>\n",
       "      <td>102</td>\n",
       "      <td>2.38</td>\n",
       "    </tr>\n",
       "    <tr>\n",
       "      <th>1991-01-01 15:00:00</th>\n",
       "      <td>49.17</td>\n",
       "      <td>0.04</td>\n",
       "      <td>29.94</td>\n",
       "      <td>0.47</td>\n",
       "      <td>clear-day</td>\n",
       "      <td>0</td>\n",
       "      <td>0</td>\n",
       "      <td>1023.78</td>\n",
       "      <td>Clear</td>\n",
       "      <td>49.17</td>\n",
       "      <td>1</td>\n",
       "      <td>6.10</td>\n",
       "      <td>72</td>\n",
       "      <td>2.76</td>\n",
       "    </tr>\n",
       "    <tr>\n",
       "      <th>1991-01-01 16:00:00</th>\n",
       "      <td>48.98</td>\n",
       "      <td>0.05</td>\n",
       "      <td>31.25</td>\n",
       "      <td>0.50</td>\n",
       "      <td>clear-day</td>\n",
       "      <td>0</td>\n",
       "      <td>0</td>\n",
       "      <td>1023.11</td>\n",
       "      <td>Clear</td>\n",
       "      <td>48.98</td>\n",
       "      <td>0</td>\n",
       "      <td>6.56</td>\n",
       "      <td>106</td>\n",
       "      <td>2.62</td>\n",
       "    </tr>\n",
       "    <tr>\n",
       "      <th>1991-01-01 17:00:00</th>\n",
       "      <td>45.28</td>\n",
       "      <td>0.21</td>\n",
       "      <td>29.86</td>\n",
       "      <td>0.55</td>\n",
       "      <td>clear-night</td>\n",
       "      <td>0</td>\n",
       "      <td>0</td>\n",
       "      <td>1022.93</td>\n",
       "      <td>Clear</td>\n",
       "      <td>45.28</td>\n",
       "      <td>0</td>\n",
       "      <td>7.77</td>\n",
       "      <td>76</td>\n",
       "      <td>0.71</td>\n",
       "    </tr>\n",
       "    <tr>\n",
       "      <th>1991-01-01 18:00:00</th>\n",
       "      <td>43.37</td>\n",
       "      <td>0.17</td>\n",
       "      <td>29.78</td>\n",
       "      <td>0.56</td>\n",
       "      <td>clear-night</td>\n",
       "      <td>0</td>\n",
       "      <td>0</td>\n",
       "      <td>1022.93</td>\n",
       "      <td>Clear</td>\n",
       "      <td>44.59</td>\n",
       "      <td>0</td>\n",
       "      <td>9.64</td>\n",
       "      <td>77</td>\n",
       "      <td>3.17</td>\n",
       "    </tr>\n",
       "    <tr>\n",
       "      <th>1991-01-01 19:00:00</th>\n",
       "      <td>43.31</td>\n",
       "      <td>0.10</td>\n",
       "      <td>29.56</td>\n",
       "      <td>0.58</td>\n",
       "      <td>clear-night</td>\n",
       "      <td>0</td>\n",
       "      <td>0</td>\n",
       "      <td>1023.11</td>\n",
       "      <td>Clear</td>\n",
       "      <td>43.31</td>\n",
       "      <td>0</td>\n",
       "      <td>9.27</td>\n",
       "      <td>96</td>\n",
       "      <td>2.90</td>\n",
       "    </tr>\n",
       "    <tr>\n",
       "      <th>1991-01-01 20:00:00</th>\n",
       "      <td>40.06</td>\n",
       "      <td>0.27</td>\n",
       "      <td>29.04</td>\n",
       "      <td>0.60</td>\n",
       "      <td>partly-cloudy-night</td>\n",
       "      <td>0</td>\n",
       "      <td>0</td>\n",
       "      <td>1023.23</td>\n",
       "      <td>Partly Cloudy</td>\n",
       "      <td>41.94</td>\n",
       "      <td>0</td>\n",
       "      <td>9.48</td>\n",
       "      <td>90</td>\n",
       "      <td>3.47</td>\n",
       "    </tr>\n",
       "    <tr>\n",
       "      <th>1991-01-01 21:00:00</th>\n",
       "      <td>42.02</td>\n",
       "      <td>0.24</td>\n",
       "      <td>29.75</td>\n",
       "      <td>0.61</td>\n",
       "      <td>clear-night</td>\n",
       "      <td>0</td>\n",
       "      <td>0</td>\n",
       "      <td>1023.37</td>\n",
       "      <td>Clear</td>\n",
       "      <td>42.02</td>\n",
       "      <td>0</td>\n",
       "      <td>9.54</td>\n",
       "      <td>61</td>\n",
       "      <td>1.21</td>\n",
       "    </tr>\n",
       "    <tr>\n",
       "      <th>1991-01-01 22:00:00</th>\n",
       "      <td>41.82</td>\n",
       "      <td>0.25</td>\n",
       "      <td>30.12</td>\n",
       "      <td>0.63</td>\n",
       "      <td>partly-cloudy-night</td>\n",
       "      <td>0</td>\n",
       "      <td>0</td>\n",
       "      <td>1023.54</td>\n",
       "      <td>Partly Cloudy</td>\n",
       "      <td>41.82</td>\n",
       "      <td>0</td>\n",
       "      <td>7.78</td>\n",
       "      <td>0</td>\n",
       "      <td>0.47</td>\n",
       "    </tr>\n",
       "    <tr>\n",
       "      <th>1991-01-01 23:00:00</th>\n",
       "      <td>38.59</td>\n",
       "      <td>0.36</td>\n",
       "      <td>31.10</td>\n",
       "      <td>0.68</td>\n",
       "      <td>partly-cloudy-night</td>\n",
       "      <td>0</td>\n",
       "      <td>0</td>\n",
       "      <td>1023.78</td>\n",
       "      <td>Partly Cloudy</td>\n",
       "      <td>40.81</td>\n",
       "      <td>0</td>\n",
       "      <td>8.54</td>\n",
       "      <td>83</td>\n",
       "      <td>3.65</td>\n",
       "    </tr>\n",
       "  </tbody>\n",
       "</table>\n",
       "</div>"
      ],
      "text/plain": [
       "                     apparentTemperature  cloudCover  dewPoint  humidity  \\\n",
       "1991-01-01 00:00:00                35.58        0.00     25.12      0.59   \n",
       "1991-01-01 01:00:00                36.13        0.00     25.82      0.66   \n",
       "1991-01-01 02:00:00                32.87        0.00     27.70      0.72   \n",
       "1991-01-01 03:00:00                31.32        0.00     27.48      0.71   \n",
       "1991-01-01 04:00:00                30.64        0.00     28.38      0.78   \n",
       "1991-01-01 05:00:00                31.85        0.00     28.13      0.77   \n",
       "1991-01-01 06:00:00                30.79        0.00     28.25      0.76   \n",
       "1991-01-01 07:00:00                30.20        0.06     25.79      0.83   \n",
       "1991-01-01 08:00:00                30.60        0.00     25.80      0.82   \n",
       "1991-01-01 09:00:00                36.30        0.00     29.89      0.77   \n",
       "1991-01-01 10:00:00                40.17        0.00     28.90      0.64   \n",
       "1991-01-01 11:00:00                40.44        0.11     29.46      0.59   \n",
       "1991-01-01 12:00:00                42.72        0.16     29.88      0.55   \n",
       "1991-01-01 13:00:00                46.06        0.32     29.94      0.51   \n",
       "1991-01-01 14:00:00                48.50        0.10     30.71      0.50   \n",
       "1991-01-01 15:00:00                49.17        0.04     29.94      0.47   \n",
       "1991-01-01 16:00:00                48.98        0.05     31.25      0.50   \n",
       "1991-01-01 17:00:00                45.28        0.21     29.86      0.55   \n",
       "1991-01-01 18:00:00                43.37        0.17     29.78      0.56   \n",
       "1991-01-01 19:00:00                43.31        0.10     29.56      0.58   \n",
       "1991-01-01 20:00:00                40.06        0.27     29.04      0.60   \n",
       "1991-01-01 21:00:00                42.02        0.24     29.75      0.61   \n",
       "1991-01-01 22:00:00                41.82        0.25     30.12      0.63   \n",
       "1991-01-01 23:00:00                38.59        0.36     31.10      0.68   \n",
       "\n",
       "                                    icon  precipIntensity  precipProbability  \\\n",
       "1991-01-01 00:00:00          clear-night                0                  0   \n",
       "1991-01-01 01:00:00          clear-night                0                  0   \n",
       "1991-01-01 02:00:00          clear-night                0                  0   \n",
       "1991-01-01 03:00:00          clear-night                0                  0   \n",
       "1991-01-01 04:00:00          clear-night                0                  0   \n",
       "1991-01-01 05:00:00          clear-night                0                  0   \n",
       "1991-01-01 06:00:00          clear-night                0                  0   \n",
       "1991-01-01 07:00:00          clear-night                0                  0   \n",
       "1991-01-01 08:00:00            clear-day                0                  0   \n",
       "1991-01-01 09:00:00            clear-day                0                  0   \n",
       "1991-01-01 10:00:00            clear-day                0                  0   \n",
       "1991-01-01 11:00:00            clear-day                0                  0   \n",
       "1991-01-01 12:00:00            clear-day                0                  0   \n",
       "1991-01-01 13:00:00    partly-cloudy-day                0                  0   \n",
       "1991-01-01 14:00:00            clear-day                0                  0   \n",
       "1991-01-01 15:00:00            clear-day                0                  0   \n",
       "1991-01-01 16:00:00            clear-day                0                  0   \n",
       "1991-01-01 17:00:00          clear-night                0                  0   \n",
       "1991-01-01 18:00:00          clear-night                0                  0   \n",
       "1991-01-01 19:00:00          clear-night                0                  0   \n",
       "1991-01-01 20:00:00  partly-cloudy-night                0                  0   \n",
       "1991-01-01 21:00:00          clear-night                0                  0   \n",
       "1991-01-01 22:00:00  partly-cloudy-night                0                  0   \n",
       "1991-01-01 23:00:00  partly-cloudy-night                0                  0   \n",
       "\n",
       "                     pressure        summary  temperature  uvIndex  \\\n",
       "1991-01-01 00:00:00   1026.68          Clear        38.00        0   \n",
       "1991-01-01 01:00:00   1026.68          Clear        36.13        0   \n",
       "1991-01-01 02:00:00   1026.77          Clear        35.93        0   \n",
       "1991-01-01 03:00:00   1026.81          Clear        35.99        0   \n",
       "1991-01-01 04:00:00   1026.45          Clear        34.39        0   \n",
       "1991-01-01 05:00:00   1026.22          Clear        34.74        0   \n",
       "1991-01-01 06:00:00   1026.58          Clear        34.94        0   \n",
       "1991-01-01 07:00:00   1027.07          Clear        30.20        0   \n",
       "1991-01-01 08:00:00   1027.07          Clear        30.60        0   \n",
       "1991-01-01 09:00:00   1027.06          Clear        36.30        0   \n",
       "1991-01-01 10:00:00   1027.59          Clear        40.17        1   \n",
       "1991-01-01 11:00:00   1027.45          Clear        42.80        2   \n",
       "1991-01-01 12:00:00   1026.31          Clear        44.91        2   \n",
       "1991-01-01 13:00:00   1025.06  Partly Cloudy        47.01        2   \n",
       "1991-01-01 14:00:00   1024.14          Clear        48.50        1   \n",
       "1991-01-01 15:00:00   1023.78          Clear        49.17        1   \n",
       "1991-01-01 16:00:00   1023.11          Clear        48.98        0   \n",
       "1991-01-01 17:00:00   1022.93          Clear        45.28        0   \n",
       "1991-01-01 18:00:00   1022.93          Clear        44.59        0   \n",
       "1991-01-01 19:00:00   1023.11          Clear        43.31        0   \n",
       "1991-01-01 20:00:00   1023.23  Partly Cloudy        41.94        0   \n",
       "1991-01-01 21:00:00   1023.37          Clear        42.02        0   \n",
       "1991-01-01 22:00:00   1023.54  Partly Cloudy        41.82        0   \n",
       "1991-01-01 23:00:00   1023.78  Partly Cloudy        40.81        0   \n",
       "\n",
       "                     visibility  windBearing  windSpeed  \n",
       "1991-01-01 00:00:00       10.00           70       3.45  \n",
       "1991-01-01 01:00:00        7.36           85       2.24  \n",
       "1991-01-01 02:00:00        7.36           88       3.76  \n",
       "1991-01-01 03:00:00        7.36           63       5.56  \n",
       "1991-01-01 04:00:00        7.36          100       4.19  \n",
       "1991-01-01 05:00:00        7.36          129       3.45  \n",
       "1991-01-01 06:00:00        7.00          153       4.71  \n",
       "1991-01-01 07:00:00        7.43          113       2.11  \n",
       "1991-01-01 08:00:00        6.09          119       2.92  \n",
       "1991-01-01 09:00:00        5.79          120       2.55  \n",
       "1991-01-01 10:00:00        5.48          113       2.62  \n",
       "1991-01-01 11:00:00        6.31           93       4.13  \n",
       "1991-01-01 12:00:00        4.72           97       4.34  \n",
       "1991-01-01 13:00:00        5.27          100       3.24  \n",
       "1991-01-01 14:00:00        6.10          102       2.38  \n",
       "1991-01-01 15:00:00        6.10           72       2.76  \n",
       "1991-01-01 16:00:00        6.56          106       2.62  \n",
       "1991-01-01 17:00:00        7.77           76       0.71  \n",
       "1991-01-01 18:00:00        9.64           77       3.17  \n",
       "1991-01-01 19:00:00        9.27           96       2.90  \n",
       "1991-01-01 20:00:00        9.48           90       3.47  \n",
       "1991-01-01 21:00:00        9.54           61       1.21  \n",
       "1991-01-01 22:00:00        7.78            0       0.47  \n",
       "1991-01-01 23:00:00        8.54           83       3.65  "
      ]
     },
     "execution_count": 20,
     "metadata": {},
     "output_type": "execute_result"
    }
   ],
   "source": [
    "data"
   ]
  },
  {
   "cell_type": "code",
   "execution_count": null,
   "metadata": {
    "collapsed": false
   },
   "outputs": [],
   "source": []
  },
  {
   "cell_type": "code",
   "execution_count": null,
   "metadata": {
    "collapsed": true
   },
   "outputs": [],
   "source": []
  }
 ],
 "metadata": {
  "anaconda-cloud": {},
  "kernelspec": {
   "display_name": "Python [conda env:anaconda3]",
   "language": "python",
   "name": "conda-env-anaconda3-py"
  },
  "language_info": {
   "codemirror_mode": {
    "name": "ipython",
    "version": 3
   },
   "file_extension": ".py",
   "mimetype": "text/x-python",
   "name": "python",
   "nbconvert_exporter": "python",
   "pygments_lexer": "ipython3",
   "version": "3.5.2"
  },
  "toc": {
   "base_numbering": 1,
   "nav_menu": {},
   "number_sections": true,
   "sideBar": true,
   "skip_h1_title": false,
   "title_cell": "Table of Contents",
   "title_sidebar": "Contents",
   "toc_cell": false,
   "toc_position": {},
   "toc_section_display": true,
   "toc_window_display": false
  }
 },
 "nbformat": 4,
 "nbformat_minor": 2
}
