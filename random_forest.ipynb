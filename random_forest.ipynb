{
 "cells": [
  {
   "cell_type": "code",
   "execution_count": 86,
   "metadata": {
    "collapsed": true
   },
   "outputs": [],
   "source": [
    "import pandas as pd\n",
    "import numpy as np"
   ]
  },
  {
   "cell_type": "code",
   "execution_count": 87,
   "metadata": {
    "collapsed": false
   },
   "outputs": [
    {
     "data": {
      "text/html": [
       "<div>\n",
       "<style scoped>\n",
       "    .dataframe tbody tr th:only-of-type {\n",
       "        vertical-align: middle;\n",
       "    }\n",
       "\n",
       "    .dataframe tbody tr th {\n",
       "        vertical-align: top;\n",
       "    }\n",
       "\n",
       "    .dataframe thead th {\n",
       "        text-align: right;\n",
       "    }\n",
       "</style>\n",
       "<table border=\"1\" class=\"dataframe\">\n",
       "  <thead>\n",
       "    <tr style=\"text-align: right;\">\n",
       "      <th></th>\n",
       "      <th>apparentTemperature</th>\n",
       "      <th>cloudCover</th>\n",
       "      <th>dewPoint</th>\n",
       "      <th>humidity</th>\n",
       "      <th>icon</th>\n",
       "      <th>precipAccumulation</th>\n",
       "      <th>precipIntensity</th>\n",
       "      <th>precipProbability</th>\n",
       "      <th>precipType</th>\n",
       "      <th>pressure</th>\n",
       "      <th>...</th>\n",
       "      <th>Glo Mod (Wh/m^2)</th>\n",
       "      <th>Glo Mod Unc (%)</th>\n",
       "      <th>Dir Mod (Wh/m^2)</th>\n",
       "      <th>Dir Mod Unc (%)</th>\n",
       "      <th>Dif Mod (Wh/m^2)</th>\n",
       "      <th>Dif Mod Unc (%)</th>\n",
       "      <th>clear_sky</th>\n",
       "      <th>yesterday</th>\n",
       "      <th>avg_last_week</th>\n",
       "      <th>last_week_median</th>\n",
       "    </tr>\n",
       "  </thead>\n",
       "  <tbody>\n",
       "    <tr>\n",
       "      <th>2006-01-02 00:00:00</th>\n",
       "      <td>36.81</td>\n",
       "      <td>0.82</td>\n",
       "      <td>31.40</td>\n",
       "      <td>0.81</td>\n",
       "      <td>partly-cloudy-night</td>\n",
       "      <td>NaN</td>\n",
       "      <td>0.0</td>\n",
       "      <td>0.0</td>\n",
       "      <td>NaN</td>\n",
       "      <td>1022.75</td>\n",
       "      <td>...</td>\n",
       "      <td>0</td>\n",
       "      <td>0</td>\n",
       "      <td>0</td>\n",
       "      <td>0</td>\n",
       "      <td>0</td>\n",
       "      <td>0</td>\n",
       "      <td>0.0</td>\n",
       "      <td>0.0</td>\n",
       "      <td>NaN</td>\n",
       "      <td>0.0</td>\n",
       "    </tr>\n",
       "    <tr>\n",
       "      <th>2006-01-02 01:00:00</th>\n",
       "      <td>35.79</td>\n",
       "      <td>0.22</td>\n",
       "      <td>30.80</td>\n",
       "      <td>0.82</td>\n",
       "      <td>clear-night</td>\n",
       "      <td>NaN</td>\n",
       "      <td>0.0</td>\n",
       "      <td>0.0</td>\n",
       "      <td>NaN</td>\n",
       "      <td>1022.80</td>\n",
       "      <td>...</td>\n",
       "      <td>0</td>\n",
       "      <td>0</td>\n",
       "      <td>0</td>\n",
       "      <td>0</td>\n",
       "      <td>0</td>\n",
       "      <td>0</td>\n",
       "      <td>0.0</td>\n",
       "      <td>0.0</td>\n",
       "      <td>NaN</td>\n",
       "      <td>0.0</td>\n",
       "    </tr>\n",
       "    <tr>\n",
       "      <th>2006-01-02 02:00:00</th>\n",
       "      <td>35.67</td>\n",
       "      <td>0.32</td>\n",
       "      <td>30.43</td>\n",
       "      <td>0.81</td>\n",
       "      <td>partly-cloudy-night</td>\n",
       "      <td>NaN</td>\n",
       "      <td>0.0</td>\n",
       "      <td>0.0</td>\n",
       "      <td>NaN</td>\n",
       "      <td>1023.57</td>\n",
       "      <td>...</td>\n",
       "      <td>0</td>\n",
       "      <td>0</td>\n",
       "      <td>0</td>\n",
       "      <td>0</td>\n",
       "      <td>0</td>\n",
       "      <td>0</td>\n",
       "      <td>0.0</td>\n",
       "      <td>0.0</td>\n",
       "      <td>NaN</td>\n",
       "      <td>0.0</td>\n",
       "    </tr>\n",
       "    <tr>\n",
       "      <th>2006-01-02 03:00:00</th>\n",
       "      <td>35.49</td>\n",
       "      <td>0.50</td>\n",
       "      <td>30.64</td>\n",
       "      <td>0.82</td>\n",
       "      <td>partly-cloudy-night</td>\n",
       "      <td>NaN</td>\n",
       "      <td>0.0</td>\n",
       "      <td>0.0</td>\n",
       "      <td>NaN</td>\n",
       "      <td>1023.57</td>\n",
       "      <td>...</td>\n",
       "      <td>0</td>\n",
       "      <td>0</td>\n",
       "      <td>0</td>\n",
       "      <td>0</td>\n",
       "      <td>0</td>\n",
       "      <td>0</td>\n",
       "      <td>0.0</td>\n",
       "      <td>0.0</td>\n",
       "      <td>NaN</td>\n",
       "      <td>0.0</td>\n",
       "    </tr>\n",
       "    <tr>\n",
       "      <th>2006-01-02 04:00:00</th>\n",
       "      <td>35.66</td>\n",
       "      <td>0.88</td>\n",
       "      <td>31.25</td>\n",
       "      <td>0.84</td>\n",
       "      <td>partly-cloudy-night</td>\n",
       "      <td>NaN</td>\n",
       "      <td>0.0</td>\n",
       "      <td>0.0</td>\n",
       "      <td>NaN</td>\n",
       "      <td>1023.31</td>\n",
       "      <td>...</td>\n",
       "      <td>0</td>\n",
       "      <td>0</td>\n",
       "      <td>0</td>\n",
       "      <td>0</td>\n",
       "      <td>0</td>\n",
       "      <td>0</td>\n",
       "      <td>0.0</td>\n",
       "      <td>0.0</td>\n",
       "      <td>NaN</td>\n",
       "      <td>0.0</td>\n",
       "    </tr>\n",
       "  </tbody>\n",
       "</table>\n",
       "<p>5 rows × 29 columns</p>\n",
       "</div>"
      ],
      "text/plain": [
       "                     apparentTemperature  cloudCover  dewPoint  humidity  \\\n",
       "2006-01-02 00:00:00                36.81        0.82     31.40      0.81   \n",
       "2006-01-02 01:00:00                35.79        0.22     30.80      0.82   \n",
       "2006-01-02 02:00:00                35.67        0.32     30.43      0.81   \n",
       "2006-01-02 03:00:00                35.49        0.50     30.64      0.82   \n",
       "2006-01-02 04:00:00                35.66        0.88     31.25      0.84   \n",
       "\n",
       "                                    icon  precipAccumulation  precipIntensity  \\\n",
       "2006-01-02 00:00:00  partly-cloudy-night                 NaN              0.0   \n",
       "2006-01-02 01:00:00          clear-night                 NaN              0.0   \n",
       "2006-01-02 02:00:00  partly-cloudy-night                 NaN              0.0   \n",
       "2006-01-02 03:00:00  partly-cloudy-night                 NaN              0.0   \n",
       "2006-01-02 04:00:00  partly-cloudy-night                 NaN              0.0   \n",
       "\n",
       "                     precipProbability precipType  pressure        ...         \\\n",
       "2006-01-02 00:00:00                0.0        NaN   1022.75        ...          \n",
       "2006-01-02 01:00:00                0.0        NaN   1022.80        ...          \n",
       "2006-01-02 02:00:00                0.0        NaN   1023.57        ...          \n",
       "2006-01-02 03:00:00                0.0        NaN   1023.57        ...          \n",
       "2006-01-02 04:00:00                0.0        NaN   1023.31        ...          \n",
       "\n",
       "                    Glo Mod (Wh/m^2)  Glo Mod Unc (%)  Dir Mod (Wh/m^2)  \\\n",
       "2006-01-02 00:00:00                0                0                 0   \n",
       "2006-01-02 01:00:00                0                0                 0   \n",
       "2006-01-02 02:00:00                0                0                 0   \n",
       "2006-01-02 03:00:00                0                0                 0   \n",
       "2006-01-02 04:00:00                0                0                 0   \n",
       "\n",
       "                     Dir Mod Unc (%)  Dif Mod (Wh/m^2)  Dif Mod Unc (%)  \\\n",
       "2006-01-02 00:00:00                0                 0                0   \n",
       "2006-01-02 01:00:00                0                 0                0   \n",
       "2006-01-02 02:00:00                0                 0                0   \n",
       "2006-01-02 03:00:00                0                 0                0   \n",
       "2006-01-02 04:00:00                0                 0                0   \n",
       "\n",
       "                     clear_sky  yesterday  avg_last_week  last_week_median  \n",
       "2006-01-02 00:00:00        0.0        0.0            NaN               0.0  \n",
       "2006-01-02 01:00:00        0.0        0.0            NaN               0.0  \n",
       "2006-01-02 02:00:00        0.0        0.0            NaN               0.0  \n",
       "2006-01-02 03:00:00        0.0        0.0            NaN               0.0  \n",
       "2006-01-02 04:00:00        0.0        0.0            NaN               0.0  \n",
       "\n",
       "[5 rows x 29 columns]"
      ]
     },
     "execution_count": 87,
     "metadata": {},
     "output_type": "execute_result"
    }
   ],
   "source": [
    "newark_df = pd.read_csv('./data/newark_merged.csv', index_col='Unnamed: 0')\n",
    "newark_df.head()"
   ]
  },
  {
   "cell_type": "code",
   "execution_count": 88,
   "metadata": {
    "collapsed": false
   },
   "outputs": [
    {
     "data": {
      "text/plain": [
       "Index(['apparentTemperature', 'cloudCover', 'dewPoint', 'humidity', 'icon',\n",
       "       'precipAccumulation', 'precipIntensity', 'precipProbability',\n",
       "       'precipType', 'pressure', 'summary', 'temperature', 'uvIndex',\n",
       "       'visibility', 'windBearing', 'windGust', 'windSpeed', 'ETR (Wh/m^2)',\n",
       "       'ETRN (Wh/m^2)', 'Glo Mod (Wh/m^2)', 'Glo Mod Unc (%)',\n",
       "       'Dir Mod (Wh/m^2)', 'Dir Mod Unc (%)', 'Dif Mod (Wh/m^2)',\n",
       "       'Dif Mod Unc (%)', 'clear_sky', 'yesterday', 'avg_last_week',\n",
       "       'last_week_median'],\n",
       "      dtype='object')"
      ]
     },
     "execution_count": 88,
     "metadata": {},
     "output_type": "execute_result"
    }
   ],
   "source": [
    "newark_df.columns"
   ]
  },
  {
   "cell_type": "code",
   "execution_count": 89,
   "metadata": {
    "collapsed": false
   },
   "outputs": [],
   "source": [
    "# Drop as these columns have a ton of NaNs and are columns of strings.\n",
    "newark_df = newark_df.drop(columns=[\"precipAccumulation\", \"precipType\", \"windGust\", \"icon\", \"summary\", \"ETR (Wh/m^2)\", \"ETRN (Wh/m^2)\", \"Dir Mod (Wh/m^2)\", \"Dif Mod (Wh/m^2)\"])"
   ]
  },
  {
   "cell_type": "code",
   "execution_count": 90,
   "metadata": {
    "collapsed": false
   },
   "outputs": [
    {
     "data": {
      "text/plain": [
       "apparentTemperature      0\n",
       "cloudCover               0\n",
       "dewPoint                 0\n",
       "humidity                 0\n",
       "precipIntensity          0\n",
       "precipProbability        0\n",
       "pressure                 0\n",
       "temperature              0\n",
       "uvIndex                  0\n",
       "visibility               0\n",
       "windBearing              0\n",
       "windSpeed                0\n",
       "Glo Mod (Wh/m^2)         0\n",
       "Glo Mod Unc (%)          0\n",
       "Dir Mod Unc (%)          0\n",
       "Dif Mod Unc (%)          0\n",
       "clear_sky                0\n",
       "yesterday                0\n",
       "avg_last_week          145\n",
       "last_week_median         0\n",
       "dtype: int64"
      ]
     },
     "execution_count": 90,
     "metadata": {},
     "output_type": "execute_result"
    }
   ],
   "source": [
    "# Ensure only avg last week is na\n",
    "newark_df.isna().sum()"
   ]
  },
  {
   "cell_type": "code",
   "execution_count": 91,
   "metadata": {
    "collapsed": false
   },
   "outputs": [
    {
     "data": {
      "text/html": [
       "<div>\n",
       "<style scoped>\n",
       "    .dataframe tbody tr th:only-of-type {\n",
       "        vertical-align: middle;\n",
       "    }\n",
       "\n",
       "    .dataframe tbody tr th {\n",
       "        vertical-align: top;\n",
       "    }\n",
       "\n",
       "    .dataframe thead th {\n",
       "        text-align: right;\n",
       "    }\n",
       "</style>\n",
       "<table border=\"1\" class=\"dataframe\">\n",
       "  <thead>\n",
       "    <tr style=\"text-align: right;\">\n",
       "      <th></th>\n",
       "      <th>apparentTemperature</th>\n",
       "      <th>cloudCover</th>\n",
       "      <th>dewPoint</th>\n",
       "      <th>humidity</th>\n",
       "      <th>precipIntensity</th>\n",
       "      <th>precipProbability</th>\n",
       "      <th>pressure</th>\n",
       "      <th>temperature</th>\n",
       "      <th>uvIndex</th>\n",
       "      <th>visibility</th>\n",
       "      <th>windBearing</th>\n",
       "      <th>windSpeed</th>\n",
       "      <th>Glo Mod (Wh/m^2)</th>\n",
       "      <th>Glo Mod Unc (%)</th>\n",
       "      <th>Dir Mod Unc (%)</th>\n",
       "      <th>Dif Mod Unc (%)</th>\n",
       "      <th>clear_sky</th>\n",
       "      <th>yesterday</th>\n",
       "      <th>avg_last_week</th>\n",
       "      <th>last_week_median</th>\n",
       "    </tr>\n",
       "  </thead>\n",
       "  <tbody>\n",
       "    <tr>\n",
       "      <th>2006-01-02 00:00:00</th>\n",
       "      <td>36.81</td>\n",
       "      <td>0.82</td>\n",
       "      <td>31.40</td>\n",
       "      <td>0.81</td>\n",
       "      <td>0.0</td>\n",
       "      <td>0.0</td>\n",
       "      <td>1022.75</td>\n",
       "      <td>36.81</td>\n",
       "      <td>0</td>\n",
       "      <td>10.00</td>\n",
       "      <td>246</td>\n",
       "      <td>1.75</td>\n",
       "      <td>0</td>\n",
       "      <td>0</td>\n",
       "      <td>0</td>\n",
       "      <td>0</td>\n",
       "      <td>0.0</td>\n",
       "      <td>0.0</td>\n",
       "      <td>NaN</td>\n",
       "      <td>0.0</td>\n",
       "    </tr>\n",
       "    <tr>\n",
       "      <th>2006-01-02 01:00:00</th>\n",
       "      <td>35.79</td>\n",
       "      <td>0.22</td>\n",
       "      <td>30.80</td>\n",
       "      <td>0.82</td>\n",
       "      <td>0.0</td>\n",
       "      <td>0.0</td>\n",
       "      <td>1022.80</td>\n",
       "      <td>35.79</td>\n",
       "      <td>0</td>\n",
       "      <td>10.00</td>\n",
       "      <td>234</td>\n",
       "      <td>1.86</td>\n",
       "      <td>0</td>\n",
       "      <td>0</td>\n",
       "      <td>0</td>\n",
       "      <td>0</td>\n",
       "      <td>0.0</td>\n",
       "      <td>0.0</td>\n",
       "      <td>NaN</td>\n",
       "      <td>0.0</td>\n",
       "    </tr>\n",
       "    <tr>\n",
       "      <th>2006-01-02 02:00:00</th>\n",
       "      <td>35.67</td>\n",
       "      <td>0.32</td>\n",
       "      <td>30.43</td>\n",
       "      <td>0.81</td>\n",
       "      <td>0.0</td>\n",
       "      <td>0.0</td>\n",
       "      <td>1023.57</td>\n",
       "      <td>35.67</td>\n",
       "      <td>0</td>\n",
       "      <td>10.00</td>\n",
       "      <td>216</td>\n",
       "      <td>1.55</td>\n",
       "      <td>0</td>\n",
       "      <td>0</td>\n",
       "      <td>0</td>\n",
       "      <td>0</td>\n",
       "      <td>0.0</td>\n",
       "      <td>0.0</td>\n",
       "      <td>NaN</td>\n",
       "      <td>0.0</td>\n",
       "    </tr>\n",
       "    <tr>\n",
       "      <th>2006-01-02 03:00:00</th>\n",
       "      <td>35.49</td>\n",
       "      <td>0.50</td>\n",
       "      <td>30.64</td>\n",
       "      <td>0.82</td>\n",
       "      <td>0.0</td>\n",
       "      <td>0.0</td>\n",
       "      <td>1023.57</td>\n",
       "      <td>35.49</td>\n",
       "      <td>0</td>\n",
       "      <td>9.74</td>\n",
       "      <td>225</td>\n",
       "      <td>0.81</td>\n",
       "      <td>0</td>\n",
       "      <td>0</td>\n",
       "      <td>0</td>\n",
       "      <td>0</td>\n",
       "      <td>0.0</td>\n",
       "      <td>0.0</td>\n",
       "      <td>NaN</td>\n",
       "      <td>0.0</td>\n",
       "    </tr>\n",
       "    <tr>\n",
       "      <th>2006-01-02 04:00:00</th>\n",
       "      <td>35.66</td>\n",
       "      <td>0.88</td>\n",
       "      <td>31.25</td>\n",
       "      <td>0.84</td>\n",
       "      <td>0.0</td>\n",
       "      <td>0.0</td>\n",
       "      <td>1023.31</td>\n",
       "      <td>35.66</td>\n",
       "      <td>0</td>\n",
       "      <td>9.68</td>\n",
       "      <td>216</td>\n",
       "      <td>0.63</td>\n",
       "      <td>0</td>\n",
       "      <td>0</td>\n",
       "      <td>0</td>\n",
       "      <td>0</td>\n",
       "      <td>0.0</td>\n",
       "      <td>0.0</td>\n",
       "      <td>NaN</td>\n",
       "      <td>0.0</td>\n",
       "    </tr>\n",
       "  </tbody>\n",
       "</table>\n",
       "</div>"
      ],
      "text/plain": [
       "                     apparentTemperature  cloudCover  dewPoint  humidity  \\\n",
       "2006-01-02 00:00:00                36.81        0.82     31.40      0.81   \n",
       "2006-01-02 01:00:00                35.79        0.22     30.80      0.82   \n",
       "2006-01-02 02:00:00                35.67        0.32     30.43      0.81   \n",
       "2006-01-02 03:00:00                35.49        0.50     30.64      0.82   \n",
       "2006-01-02 04:00:00                35.66        0.88     31.25      0.84   \n",
       "\n",
       "                     precipIntensity  precipProbability  pressure  \\\n",
       "2006-01-02 00:00:00              0.0                0.0   1022.75   \n",
       "2006-01-02 01:00:00              0.0                0.0   1022.80   \n",
       "2006-01-02 02:00:00              0.0                0.0   1023.57   \n",
       "2006-01-02 03:00:00              0.0                0.0   1023.57   \n",
       "2006-01-02 04:00:00              0.0                0.0   1023.31   \n",
       "\n",
       "                     temperature  uvIndex  visibility  windBearing  windSpeed  \\\n",
       "2006-01-02 00:00:00        36.81        0       10.00          246       1.75   \n",
       "2006-01-02 01:00:00        35.79        0       10.00          234       1.86   \n",
       "2006-01-02 02:00:00        35.67        0       10.00          216       1.55   \n",
       "2006-01-02 03:00:00        35.49        0        9.74          225       0.81   \n",
       "2006-01-02 04:00:00        35.66        0        9.68          216       0.63   \n",
       "\n",
       "                     Glo Mod (Wh/m^2)  Glo Mod Unc (%)  Dir Mod Unc (%)  \\\n",
       "2006-01-02 00:00:00                 0                0                0   \n",
       "2006-01-02 01:00:00                 0                0                0   \n",
       "2006-01-02 02:00:00                 0                0                0   \n",
       "2006-01-02 03:00:00                 0                0                0   \n",
       "2006-01-02 04:00:00                 0                0                0   \n",
       "\n",
       "                     Dif Mod Unc (%)  clear_sky  yesterday  avg_last_week  \\\n",
       "2006-01-02 00:00:00                0        0.0        0.0            NaN   \n",
       "2006-01-02 01:00:00                0        0.0        0.0            NaN   \n",
       "2006-01-02 02:00:00                0        0.0        0.0            NaN   \n",
       "2006-01-02 03:00:00                0        0.0        0.0            NaN   \n",
       "2006-01-02 04:00:00                0        0.0        0.0            NaN   \n",
       "\n",
       "                     last_week_median  \n",
       "2006-01-02 00:00:00               0.0  \n",
       "2006-01-02 01:00:00               0.0  \n",
       "2006-01-02 02:00:00               0.0  \n",
       "2006-01-02 03:00:00               0.0  \n",
       "2006-01-02 04:00:00               0.0  "
      ]
     },
     "execution_count": 91,
     "metadata": {},
     "output_type": "execute_result"
    }
   ],
   "source": [
    "newark_df.head()"
   ]
  },
  {
   "cell_type": "code",
   "execution_count": 92,
   "metadata": {
    "collapsed": false
   },
   "outputs": [],
   "source": [
    "from sklearn.model_selection import train_test_split\n",
    "newark_df = newark_df.dropna()\n",
    "X = newark_df.drop(columns=\"Glo Mod (Wh/m^2)\")\n",
    "y = newark_df.loc[:, [\"Glo Mod (Wh/m^2)\"]]\n",
    "\n",
    "X, X_test, y, y_test = train_test_split(X, y, test_size = 0.2, random_state=1)\n",
    "X_train, X_val, y_train, y_val = train_test_split(X, y, test_size = 0.1, random_state=1)"
   ]
  },
  {
   "cell_type": "code",
   "execution_count": 93,
   "metadata": {
    "collapsed": false
   },
   "outputs": [
    {
     "name": "stderr",
     "output_type": "stream",
     "text": [
      "/Users/jacksullivan/anaconda3/lib/python3.5/site-packages/ipykernel/__main__.py:4: DataConversionWarning: A column-vector y was passed when a 1d array was expected. Please change the shape of y to (n_samples,), for example using ravel().\n"
     ]
    },
    {
     "name": "stdout",
     "output_type": "stream",
     "text": [
      "Train Score:  0.9851148673876251\n",
      "Validation Score:  0.9071328806981406\n"
     ]
    }
   ],
   "source": [
    "from sklearn.ensemble import RandomForestRegressor\n",
    "\n",
    "rfr = RandomForestRegressor()\n",
    "rfr.fit(X_train, y_train)\n",
    "\n",
    "rfr_train_score = rfr.score(X_train, y_train)\n",
    "rfr_val_score = rfr.score(X_val, y_val)\n",
    "\n",
    "print('Train Score: ', rfr_train_score)\n",
    "print('Validation Score: ', rfr_val_score)"
   ]
  },
  {
   "cell_type": "markdown",
   "metadata": {},
   "source": [
    "To visualize what features are used for the largest splits, let's restrict the depth of the decision trees and visualize a tree with graphviz."
   ]
  },
  {
   "cell_type": "code",
   "execution_count": 95,
   "metadata": {
    "collapsed": false
   },
   "outputs": [
    {
     "name": "stderr",
     "output_type": "stream",
     "text": [
      "/Users/jacksullivan/anaconda3/lib/python3.5/site-packages/ipykernel/__main__.py:2: DataConversionWarning: A column-vector y was passed when a 1d array was expected. Please change the shape of y to (n_samples,), for example using ravel().\n",
      "  from ipykernel import kernelapp as app\n"
     ]
    }
   ],
   "source": [
    "rfr_limited_depth = RandomForestRegressor(max_depth=4)\n",
    "rfr_limited_depth.fit(X_train, y_train)\n",
    "\n",
    "# Extract single tree\n",
    "estimator = rfr_limited_depth.estimators_[5]"
   ]
  },
  {
   "cell_type": "markdown",
   "metadata": {},
   "source": [
    "Luckily, we can copy the code and visualize the tree on Webgraphviz. By running the following cell, you'll see a pretty long output -- follow the link and copy and paste the output to get a visualization of the decision tree we fit!"
   ]
  },
  {
   "cell_type": "code",
   "execution_count": 96,
   "metadata": {
    "collapsed": false
   },
   "outputs": [
    {
     "name": "stdout",
     "output_type": "stream",
     "text": [
      "digraph Tree {\n",
      "node [shape=box] ;\n",
      "0 [label=\"uvIndex <= 1.5\\nmse = 61656.694\\nsamples = 19781\\nvalue = 164.312\"] ;\n",
      "1 [label=\"avg_last_week <= 100.857\\nmse = 8452.649\\nsamples = 14349\\nvalue = 43.274\"] ;\n",
      "0 -> 1 [labeldistance=2.5, labelangle=45, headlabel=\"True\"] ;\n",
      "2 [label=\"avg_last_week <= 32.143\\nmse = 484.852\\nsamples = 11642\\nvalue = 6.927\"] ;\n",
      "1 -> 2 ;\n",
      "3 [label=\"avg_last_week <= 8.214\\nmse = 27.558\\nsamples = 10660\\nvalue = 1.312\"] ;\n",
      "2 -> 3 ;\n",
      "4 [label=\"mse = 1.737\\nsamples = 10104\\nvalue = 0.309\"] ;\n",
      "3 -> 4 ;\n",
      "5 [label=\"mse = 143.58\\nsamples = 556\\nvalue = 19.759\"] ;\n",
      "3 -> 5 ;\n",
      "6 [label=\"avg_last_week <= 67.214\\nmse = 1418.69\\nsamples = 982\\nvalue = 67.272\"] ;\n",
      "2 -> 6 ;\n",
      "7 [label=\"mse = 655.153\\nsamples = 542\\nvalue = 51.905\"] ;\n",
      "6 -> 7 ;\n",
      "8 [label=\"mse = 1708.162\\nsamples = 440\\nvalue = 86.674\"] ;\n",
      "6 -> 8 ;\n",
      "9 [label=\"cloudCover <= 0.855\\nmse = 12518.63\\nsamples = 2707\\nvalue = 200.236\"] ;\n",
      "1 -> 9 ;\n",
      "10 [label=\"clear_sky <= 738.733\\nmse = 10689.959\\nsamples = 1873\\nvalue = 237.702\"] ;\n",
      "9 -> 10 ;\n",
      "11 [label=\"mse = 4630.088\\nsamples = 1076\\nvalue = 186.784\"] ;\n",
      "10 -> 11 ;\n",
      "12 [label=\"mse = 10465.467\\nsamples = 797\\nvalue = 308.947\"] ;\n",
      "10 -> 12 ;\n",
      "13 [label=\"clear_sky <= 753.905\\nmse = 5843.847\\nsamples = 834\\nvalue = 112.669\"] ;\n",
      "9 -> 13 ;\n",
      "14 [label=\"mse = 2991.596\\nsamples = 413\\nvalue = 89.451\"] ;\n",
      "13 -> 14 ;\n",
      "15 [label=\"mse = 7652.755\\nsamples = 421\\nvalue = 136.551\"] ;\n",
      "13 -> 15 ;\n",
      "16 [label=\"uvIndex <= 4.5\\nmse = 61128.697\\nsamples = 5432\\nvalue = 484.488\"] ;\n",
      "0 -> 16 [labeldistance=2.5, labelangle=-45, headlabel=\"False\"] ;\n",
      "17 [label=\"cloudCover <= 0.765\\nmse = 33587.944\\nsamples = 3412\\nvalue = 367.61\"] ;\n",
      "16 -> 17 ;\n",
      "18 [label=\"clear_sky <= 728.317\\nmse = 22341.816\\nsamples = 2165\\nvalue = 450.749\"] ;\n",
      "17 -> 18 ;\n",
      "19 [label=\"mse = 10531.09\\nsamples = 370\\nvalue = 320.815\"] ;\n",
      "18 -> 19 ;\n",
      "20 [label=\"mse = 20407.639\\nsamples = 1795\\nvalue = 479.346\"] ;\n",
      "18 -> 20 ;\n",
      "21 [label=\"cloudCover <= 0.995\\nmse = 20145.148\\nsamples = 1247\\nvalue = 222.708\"] ;\n",
      "17 -> 21 ;\n",
      "22 [label=\"mse = 24652.181\\nsamples = 507\\nvalue = 288.025\"] ;\n",
      "21 -> 22 ;\n",
      "23 [label=\"mse = 12105.585\\nsamples = 740\\nvalue = 177.841\"] ;\n",
      "21 -> 23 ;\n",
      "24 [label=\"cloudCover <= 0.355\\nmse = 44970.042\\nsamples = 2020\\nvalue = 684.17\"] ;\n",
      "16 -> 24 ;\n",
      "25 [label=\"uvIndex <= 6.5\\nmse = 19658.444\\nsamples = 1224\\nvalue = 767.551\"] ;\n",
      "24 -> 25 ;\n",
      "26 [label=\"mse = 15220.709\\nsamples = 551\\nvalue = 696.274\"] ;\n",
      "25 -> 26 ;\n",
      "27 [label=\"mse = 15714.013\\nsamples = 673\\nvalue = 826.009\"] ;\n",
      "25 -> 27 ;\n",
      "28 [label=\"cloudCover <= 0.635\\nmse = 56664.345\\nsamples = 796\\nvalue = 553.45\"] ;\n",
      "24 -> 28 ;\n",
      "29 [label=\"mse = 51307.116\\nsamples = 462\\nvalue = 616.283\"] ;\n",
      "28 -> 29 ;\n",
      "30 [label=\"mse = 51131.15\\nsamples = 334\\nvalue = 467.01\"] ;\n",
      "28 -> 30 ;\n",
      "}\n"
     ]
    }
   ],
   "source": [
    "import graphviz\n",
    "from sklearn import tree\n",
    "\n",
    "print(tree.export_graphviz(estimator, feature_names=X.columns, out_file=None))"
   ]
  },
  {
   "cell_type": "markdown",
   "metadata": {},
   "source": [
    "We observe that uvIndex, avg_last_week, clear_sky, and cloudCover are among the most important features as they result in the best splits of data."
   ]
  },
  {
   "cell_type": "code",
   "execution_count": 103,
   "metadata": {
    "collapsed": false
   },
   "outputs": [
    {
     "data": {
      "text/plain": [
       "array([  0, 594, 269, ..., 182,   0,   0])"
      ]
     },
     "execution_count": 103,
     "metadata": {},
     "output_type": "execute_result"
    }
   ],
   "source": [
    "np.array(y_train).reshape(y_train.shape[0])"
   ]
  },
  {
   "cell_type": "code",
   "execution_count": null,
   "metadata": {
    "collapsed": false
   },
   "outputs": [],
   "source": [
    "from sklearn.model_selection import RandomizedSearchCV\n",
    "\n",
    "# Number of trees in random forest\n",
    "n_estimators = [int(x) for x in np.linspace(start = 1, stop = 101, num = 5)]\n",
    "# Number of features to consider at every split\n",
    "max_features = ['auto', 'sqrt']\n",
    "# Maximum number of levels in tree\n",
    "max_depth = [int(x) for x in range(1, 10)]\n",
    "max_depth.append(None)\n",
    "# Minimum number of samples required to split a node\n",
    "# min_samples_split = [2, 5, 10]\n",
    "# Minimum number of samples required at each leaf node\n",
    "# min_samples_leaf = [1, 2, 4]\n",
    "# Method of selecting samples for training each tree\n",
    "bootstrap = [True, False]\n",
    "# Create the random grid\n",
    "param_dict = {'n_estimators': n_estimators,\n",
    "               'max_features': max_features,\n",
    "               'max_depth': max_depth,\n",
    "#                'min_samples_split': min_samples_split,\n",
    "#                'min_samples_leaf': min_samples_leaf,\n",
    "               'bootstrap': bootstrap}\n",
    "\n",
    "rf_random = RandomizedSearchCV(estimator = rfr, param_distributions = param_dict, n_iter = 50, cv = 10, random_state=42)\n",
    "# Fit the random search model\n",
    "rf_random.fit(X_train, np.array(y_train).reshape(y_train.shape[0]))\n",
    "\n",
    "print(rf_random.best_params_)"
   ]
  },
  {
   "cell_type": "code",
   "execution_count": null,
   "metadata": {
    "collapsed": true
   },
   "outputs": [],
   "source": [
    "# With best params found above\n",
    "rfr_tree = RandomForestRegressor(n_estimators=, max_features=, max_depth=, bootstrap=)\n",
    "rfr_tree.fit(X_train, y_train)\n",
    "\n",
    "rfr_train_score = rfr_tree.score(X_train, y_train)\n",
    "rfr_val_score = rfr_tree.score(X_val, y_val)\n",
    "\n",
    "print('Train Score: ', rfr_train_score)\n",
    "print('Validation Score: ', rfr_val_score)"
   ]
  }
 ],
 "metadata": {
  "anaconda-cloud": {},
  "kernelspec": {
   "display_name": "Python [conda env:anaconda3]",
   "language": "python",
   "name": "conda-env-anaconda3-py"
  },
  "language_info": {
   "codemirror_mode": {
    "name": "ipython",
    "version": 3
   },
   "file_extension": ".py",
   "mimetype": "text/x-python",
   "name": "python",
   "nbconvert_exporter": "python",
   "pygments_lexer": "ipython3",
   "version": "3.5.2"
  },
  "toc": {
   "base_numbering": 1,
   "nav_menu": {},
   "number_sections": true,
   "sideBar": true,
   "skip_h1_title": false,
   "title_cell": "Table of Contents",
   "title_sidebar": "Contents",
   "toc_cell": false,
   "toc_position": {},
   "toc_section_display": true,
   "toc_window_display": false
  }
 },
 "nbformat": 4,
 "nbformat_minor": 1
}
