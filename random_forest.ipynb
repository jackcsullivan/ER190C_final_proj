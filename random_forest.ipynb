{
 "cells": [
  {
   "cell_type": "code",
   "execution_count": 1,
   "metadata": {
    "collapsed": true
   },
   "outputs": [],
   "source": [
    "import pandas as pd\n",
    "import numpy as np"
   ]
  },
  {
   "cell_type": "code",
   "execution_count": 2,
   "metadata": {
    "collapsed": false
   },
   "outputs": [
    {
     "data": {
      "text/html": [
       "<div>\n",
       "<style scoped>\n",
       "    .dataframe tbody tr th:only-of-type {\n",
       "        vertical-align: middle;\n",
       "    }\n",
       "\n",
       "    .dataframe tbody tr th {\n",
       "        vertical-align: top;\n",
       "    }\n",
       "\n",
       "    .dataframe thead th {\n",
       "        text-align: right;\n",
       "    }\n",
       "</style>\n",
       "<table border=\"1\" class=\"dataframe\">\n",
       "  <thead>\n",
       "    <tr style=\"text-align: right;\">\n",
       "      <th></th>\n",
       "      <th>apparentTemperature</th>\n",
       "      <th>cloudCover</th>\n",
       "      <th>dewPoint</th>\n",
       "      <th>humidity</th>\n",
       "      <th>icon</th>\n",
       "      <th>precipAccumulation</th>\n",
       "      <th>precipIntensity</th>\n",
       "      <th>precipProbability</th>\n",
       "      <th>precipType</th>\n",
       "      <th>pressure</th>\n",
       "      <th>...</th>\n",
       "      <th>Glo Mod (Wh/m^2)</th>\n",
       "      <th>Glo Mod Unc (%)</th>\n",
       "      <th>Dir Mod (Wh/m^2)</th>\n",
       "      <th>Dir Mod Unc (%)</th>\n",
       "      <th>Dif Mod (Wh/m^2)</th>\n",
       "      <th>Dif Mod Unc (%)</th>\n",
       "      <th>clear_sky</th>\n",
       "      <th>yesterday</th>\n",
       "      <th>avg_last_week</th>\n",
       "      <th>last_week_median</th>\n",
       "    </tr>\n",
       "  </thead>\n",
       "  <tbody>\n",
       "    <tr>\n",
       "      <th>2006-01-02 00:00:00</th>\n",
       "      <td>36.81</td>\n",
       "      <td>0.82</td>\n",
       "      <td>31.40</td>\n",
       "      <td>0.81</td>\n",
       "      <td>partly-cloudy-night</td>\n",
       "      <td>NaN</td>\n",
       "      <td>0.0</td>\n",
       "      <td>0.0</td>\n",
       "      <td>NaN</td>\n",
       "      <td>1022.75</td>\n",
       "      <td>...</td>\n",
       "      <td>0</td>\n",
       "      <td>0</td>\n",
       "      <td>0</td>\n",
       "      <td>0</td>\n",
       "      <td>0</td>\n",
       "      <td>0</td>\n",
       "      <td>0.0</td>\n",
       "      <td>0.0</td>\n",
       "      <td>NaN</td>\n",
       "      <td>0.0</td>\n",
       "    </tr>\n",
       "    <tr>\n",
       "      <th>2006-01-02 01:00:00</th>\n",
       "      <td>35.79</td>\n",
       "      <td>0.22</td>\n",
       "      <td>30.80</td>\n",
       "      <td>0.82</td>\n",
       "      <td>clear-night</td>\n",
       "      <td>NaN</td>\n",
       "      <td>0.0</td>\n",
       "      <td>0.0</td>\n",
       "      <td>NaN</td>\n",
       "      <td>1022.80</td>\n",
       "      <td>...</td>\n",
       "      <td>0</td>\n",
       "      <td>0</td>\n",
       "      <td>0</td>\n",
       "      <td>0</td>\n",
       "      <td>0</td>\n",
       "      <td>0</td>\n",
       "      <td>0.0</td>\n",
       "      <td>0.0</td>\n",
       "      <td>NaN</td>\n",
       "      <td>0.0</td>\n",
       "    </tr>\n",
       "    <tr>\n",
       "      <th>2006-01-02 02:00:00</th>\n",
       "      <td>35.67</td>\n",
       "      <td>0.32</td>\n",
       "      <td>30.43</td>\n",
       "      <td>0.81</td>\n",
       "      <td>partly-cloudy-night</td>\n",
       "      <td>NaN</td>\n",
       "      <td>0.0</td>\n",
       "      <td>0.0</td>\n",
       "      <td>NaN</td>\n",
       "      <td>1023.57</td>\n",
       "      <td>...</td>\n",
       "      <td>0</td>\n",
       "      <td>0</td>\n",
       "      <td>0</td>\n",
       "      <td>0</td>\n",
       "      <td>0</td>\n",
       "      <td>0</td>\n",
       "      <td>0.0</td>\n",
       "      <td>0.0</td>\n",
       "      <td>NaN</td>\n",
       "      <td>0.0</td>\n",
       "    </tr>\n",
       "    <tr>\n",
       "      <th>2006-01-02 03:00:00</th>\n",
       "      <td>35.49</td>\n",
       "      <td>0.50</td>\n",
       "      <td>30.64</td>\n",
       "      <td>0.82</td>\n",
       "      <td>partly-cloudy-night</td>\n",
       "      <td>NaN</td>\n",
       "      <td>0.0</td>\n",
       "      <td>0.0</td>\n",
       "      <td>NaN</td>\n",
       "      <td>1023.57</td>\n",
       "      <td>...</td>\n",
       "      <td>0</td>\n",
       "      <td>0</td>\n",
       "      <td>0</td>\n",
       "      <td>0</td>\n",
       "      <td>0</td>\n",
       "      <td>0</td>\n",
       "      <td>0.0</td>\n",
       "      <td>0.0</td>\n",
       "      <td>NaN</td>\n",
       "      <td>0.0</td>\n",
       "    </tr>\n",
       "    <tr>\n",
       "      <th>2006-01-02 04:00:00</th>\n",
       "      <td>35.66</td>\n",
       "      <td>0.88</td>\n",
       "      <td>31.25</td>\n",
       "      <td>0.84</td>\n",
       "      <td>partly-cloudy-night</td>\n",
       "      <td>NaN</td>\n",
       "      <td>0.0</td>\n",
       "      <td>0.0</td>\n",
       "      <td>NaN</td>\n",
       "      <td>1023.31</td>\n",
       "      <td>...</td>\n",
       "      <td>0</td>\n",
       "      <td>0</td>\n",
       "      <td>0</td>\n",
       "      <td>0</td>\n",
       "      <td>0</td>\n",
       "      <td>0</td>\n",
       "      <td>0.0</td>\n",
       "      <td>0.0</td>\n",
       "      <td>NaN</td>\n",
       "      <td>0.0</td>\n",
       "    </tr>\n",
       "  </tbody>\n",
       "</table>\n",
       "<p>5 rows × 29 columns</p>\n",
       "</div>"
      ],
      "text/plain": [
       "                     apparentTemperature  cloudCover  dewPoint  humidity  \\\n",
       "2006-01-02 00:00:00                36.81        0.82     31.40      0.81   \n",
       "2006-01-02 01:00:00                35.79        0.22     30.80      0.82   \n",
       "2006-01-02 02:00:00                35.67        0.32     30.43      0.81   \n",
       "2006-01-02 03:00:00                35.49        0.50     30.64      0.82   \n",
       "2006-01-02 04:00:00                35.66        0.88     31.25      0.84   \n",
       "\n",
       "                                    icon  precipAccumulation  precipIntensity  \\\n",
       "2006-01-02 00:00:00  partly-cloudy-night                 NaN              0.0   \n",
       "2006-01-02 01:00:00          clear-night                 NaN              0.0   \n",
       "2006-01-02 02:00:00  partly-cloudy-night                 NaN              0.0   \n",
       "2006-01-02 03:00:00  partly-cloudy-night                 NaN              0.0   \n",
       "2006-01-02 04:00:00  partly-cloudy-night                 NaN              0.0   \n",
       "\n",
       "                     precipProbability precipType  pressure        ...         \\\n",
       "2006-01-02 00:00:00                0.0        NaN   1022.75        ...          \n",
       "2006-01-02 01:00:00                0.0        NaN   1022.80        ...          \n",
       "2006-01-02 02:00:00                0.0        NaN   1023.57        ...          \n",
       "2006-01-02 03:00:00                0.0        NaN   1023.57        ...          \n",
       "2006-01-02 04:00:00                0.0        NaN   1023.31        ...          \n",
       "\n",
       "                    Glo Mod (Wh/m^2)  Glo Mod Unc (%)  Dir Mod (Wh/m^2)  \\\n",
       "2006-01-02 00:00:00                0                0                 0   \n",
       "2006-01-02 01:00:00                0                0                 0   \n",
       "2006-01-02 02:00:00                0                0                 0   \n",
       "2006-01-02 03:00:00                0                0                 0   \n",
       "2006-01-02 04:00:00                0                0                 0   \n",
       "\n",
       "                     Dir Mod Unc (%)  Dif Mod (Wh/m^2)  Dif Mod Unc (%)  \\\n",
       "2006-01-02 00:00:00                0                 0                0   \n",
       "2006-01-02 01:00:00                0                 0                0   \n",
       "2006-01-02 02:00:00                0                 0                0   \n",
       "2006-01-02 03:00:00                0                 0                0   \n",
       "2006-01-02 04:00:00                0                 0                0   \n",
       "\n",
       "                     clear_sky  yesterday  avg_last_week  last_week_median  \n",
       "2006-01-02 00:00:00        0.0        0.0            NaN               0.0  \n",
       "2006-01-02 01:00:00        0.0        0.0            NaN               0.0  \n",
       "2006-01-02 02:00:00        0.0        0.0            NaN               0.0  \n",
       "2006-01-02 03:00:00        0.0        0.0            NaN               0.0  \n",
       "2006-01-02 04:00:00        0.0        0.0            NaN               0.0  \n",
       "\n",
       "[5 rows x 29 columns]"
      ]
     },
     "execution_count": 2,
     "metadata": {},
     "output_type": "execute_result"
    }
   ],
   "source": [
    "newark_df = pd.read_csv('./data/newark_merged.csv', index_col='Unnamed: 0')\n",
    "newark_df.head()"
   ]
  },
  {
   "cell_type": "code",
   "execution_count": 3,
   "metadata": {
    "collapsed": false
   },
   "outputs": [
    {
     "data": {
      "text/plain": [
       "Index(['apparentTemperature', 'cloudCover', 'dewPoint', 'humidity', 'icon',\n",
       "       'precipAccumulation', 'precipIntensity', 'precipProbability',\n",
       "       'precipType', 'pressure', 'summary', 'temperature', 'uvIndex',\n",
       "       'visibility', 'windBearing', 'windGust', 'windSpeed', 'ETR (Wh/m^2)',\n",
       "       'ETRN (Wh/m^2)', 'Glo Mod (Wh/m^2)', 'Glo Mod Unc (%)',\n",
       "       'Dir Mod (Wh/m^2)', 'Dir Mod Unc (%)', 'Dif Mod (Wh/m^2)',\n",
       "       'Dif Mod Unc (%)', 'clear_sky', 'yesterday', 'avg_last_week',\n",
       "       'last_week_median'],\n",
       "      dtype='object')"
      ]
     },
     "execution_count": 3,
     "metadata": {},
     "output_type": "execute_result"
    }
   ],
   "source": [
    "newark_df.columns"
   ]
  },
  {
   "cell_type": "code",
   "execution_count": 4,
   "metadata": {
    "collapsed": false
   },
   "outputs": [],
   "source": [
    "# Drop as these columns have a ton of NaNs and are columns of strings.\n",
    "newark_df = newark_df.drop(columns=[\"precipAccumulation\", \"precipType\", \"windGust\", \"icon\", \"summary\", \"ETR (Wh/m^2)\", \"ETRN (Wh/m^2)\", \"Dir Mod (Wh/m^2)\", \"Dif Mod (Wh/m^2)\"])"
   ]
  },
  {
   "cell_type": "code",
   "execution_count": 5,
   "metadata": {
    "collapsed": false
   },
   "outputs": [
    {
     "data": {
      "text/plain": [
       "apparentTemperature      0\n",
       "cloudCover               0\n",
       "dewPoint                 0\n",
       "humidity                 0\n",
       "precipIntensity          0\n",
       "precipProbability        0\n",
       "pressure                 0\n",
       "temperature              0\n",
       "uvIndex                  0\n",
       "visibility               0\n",
       "windBearing              0\n",
       "windSpeed                0\n",
       "Glo Mod (Wh/m^2)         0\n",
       "Glo Mod Unc (%)          0\n",
       "Dir Mod Unc (%)          0\n",
       "Dif Mod Unc (%)          0\n",
       "clear_sky                0\n",
       "yesterday                0\n",
       "avg_last_week          145\n",
       "last_week_median         0\n",
       "dtype: int64"
      ]
     },
     "execution_count": 5,
     "metadata": {},
     "output_type": "execute_result"
    }
   ],
   "source": [
    "# Ensure only avg last week is na\n",
    "newark_df.isna().sum()"
   ]
  },
  {
   "cell_type": "code",
   "execution_count": 6,
   "metadata": {
    "collapsed": false
   },
   "outputs": [
    {
     "data": {
      "text/html": [
       "<div>\n",
       "<style scoped>\n",
       "    .dataframe tbody tr th:only-of-type {\n",
       "        vertical-align: middle;\n",
       "    }\n",
       "\n",
       "    .dataframe tbody tr th {\n",
       "        vertical-align: top;\n",
       "    }\n",
       "\n",
       "    .dataframe thead th {\n",
       "        text-align: right;\n",
       "    }\n",
       "</style>\n",
       "<table border=\"1\" class=\"dataframe\">\n",
       "  <thead>\n",
       "    <tr style=\"text-align: right;\">\n",
       "      <th></th>\n",
       "      <th>apparentTemperature</th>\n",
       "      <th>cloudCover</th>\n",
       "      <th>dewPoint</th>\n",
       "      <th>humidity</th>\n",
       "      <th>precipIntensity</th>\n",
       "      <th>precipProbability</th>\n",
       "      <th>pressure</th>\n",
       "      <th>temperature</th>\n",
       "      <th>uvIndex</th>\n",
       "      <th>visibility</th>\n",
       "      <th>windBearing</th>\n",
       "      <th>windSpeed</th>\n",
       "      <th>Glo Mod (Wh/m^2)</th>\n",
       "      <th>Glo Mod Unc (%)</th>\n",
       "      <th>Dir Mod Unc (%)</th>\n",
       "      <th>Dif Mod Unc (%)</th>\n",
       "      <th>clear_sky</th>\n",
       "      <th>yesterday</th>\n",
       "      <th>avg_last_week</th>\n",
       "      <th>last_week_median</th>\n",
       "    </tr>\n",
       "  </thead>\n",
       "  <tbody>\n",
       "    <tr>\n",
       "      <th>2006-01-02 00:00:00</th>\n",
       "      <td>36.81</td>\n",
       "      <td>0.82</td>\n",
       "      <td>31.40</td>\n",
       "      <td>0.81</td>\n",
       "      <td>0.0</td>\n",
       "      <td>0.0</td>\n",
       "      <td>1022.75</td>\n",
       "      <td>36.81</td>\n",
       "      <td>0</td>\n",
       "      <td>10.00</td>\n",
       "      <td>246</td>\n",
       "      <td>1.75</td>\n",
       "      <td>0</td>\n",
       "      <td>0</td>\n",
       "      <td>0</td>\n",
       "      <td>0</td>\n",
       "      <td>0.0</td>\n",
       "      <td>0.0</td>\n",
       "      <td>NaN</td>\n",
       "      <td>0.0</td>\n",
       "    </tr>\n",
       "    <tr>\n",
       "      <th>2006-01-02 01:00:00</th>\n",
       "      <td>35.79</td>\n",
       "      <td>0.22</td>\n",
       "      <td>30.80</td>\n",
       "      <td>0.82</td>\n",
       "      <td>0.0</td>\n",
       "      <td>0.0</td>\n",
       "      <td>1022.80</td>\n",
       "      <td>35.79</td>\n",
       "      <td>0</td>\n",
       "      <td>10.00</td>\n",
       "      <td>234</td>\n",
       "      <td>1.86</td>\n",
       "      <td>0</td>\n",
       "      <td>0</td>\n",
       "      <td>0</td>\n",
       "      <td>0</td>\n",
       "      <td>0.0</td>\n",
       "      <td>0.0</td>\n",
       "      <td>NaN</td>\n",
       "      <td>0.0</td>\n",
       "    </tr>\n",
       "    <tr>\n",
       "      <th>2006-01-02 02:00:00</th>\n",
       "      <td>35.67</td>\n",
       "      <td>0.32</td>\n",
       "      <td>30.43</td>\n",
       "      <td>0.81</td>\n",
       "      <td>0.0</td>\n",
       "      <td>0.0</td>\n",
       "      <td>1023.57</td>\n",
       "      <td>35.67</td>\n",
       "      <td>0</td>\n",
       "      <td>10.00</td>\n",
       "      <td>216</td>\n",
       "      <td>1.55</td>\n",
       "      <td>0</td>\n",
       "      <td>0</td>\n",
       "      <td>0</td>\n",
       "      <td>0</td>\n",
       "      <td>0.0</td>\n",
       "      <td>0.0</td>\n",
       "      <td>NaN</td>\n",
       "      <td>0.0</td>\n",
       "    </tr>\n",
       "    <tr>\n",
       "      <th>2006-01-02 03:00:00</th>\n",
       "      <td>35.49</td>\n",
       "      <td>0.50</td>\n",
       "      <td>30.64</td>\n",
       "      <td>0.82</td>\n",
       "      <td>0.0</td>\n",
       "      <td>0.0</td>\n",
       "      <td>1023.57</td>\n",
       "      <td>35.49</td>\n",
       "      <td>0</td>\n",
       "      <td>9.74</td>\n",
       "      <td>225</td>\n",
       "      <td>0.81</td>\n",
       "      <td>0</td>\n",
       "      <td>0</td>\n",
       "      <td>0</td>\n",
       "      <td>0</td>\n",
       "      <td>0.0</td>\n",
       "      <td>0.0</td>\n",
       "      <td>NaN</td>\n",
       "      <td>0.0</td>\n",
       "    </tr>\n",
       "    <tr>\n",
       "      <th>2006-01-02 04:00:00</th>\n",
       "      <td>35.66</td>\n",
       "      <td>0.88</td>\n",
       "      <td>31.25</td>\n",
       "      <td>0.84</td>\n",
       "      <td>0.0</td>\n",
       "      <td>0.0</td>\n",
       "      <td>1023.31</td>\n",
       "      <td>35.66</td>\n",
       "      <td>0</td>\n",
       "      <td>9.68</td>\n",
       "      <td>216</td>\n",
       "      <td>0.63</td>\n",
       "      <td>0</td>\n",
       "      <td>0</td>\n",
       "      <td>0</td>\n",
       "      <td>0</td>\n",
       "      <td>0.0</td>\n",
       "      <td>0.0</td>\n",
       "      <td>NaN</td>\n",
       "      <td>0.0</td>\n",
       "    </tr>\n",
       "  </tbody>\n",
       "</table>\n",
       "</div>"
      ],
      "text/plain": [
       "                     apparentTemperature  cloudCover  dewPoint  humidity  \\\n",
       "2006-01-02 00:00:00                36.81        0.82     31.40      0.81   \n",
       "2006-01-02 01:00:00                35.79        0.22     30.80      0.82   \n",
       "2006-01-02 02:00:00                35.67        0.32     30.43      0.81   \n",
       "2006-01-02 03:00:00                35.49        0.50     30.64      0.82   \n",
       "2006-01-02 04:00:00                35.66        0.88     31.25      0.84   \n",
       "\n",
       "                     precipIntensity  precipProbability  pressure  \\\n",
       "2006-01-02 00:00:00              0.0                0.0   1022.75   \n",
       "2006-01-02 01:00:00              0.0                0.0   1022.80   \n",
       "2006-01-02 02:00:00              0.0                0.0   1023.57   \n",
       "2006-01-02 03:00:00              0.0                0.0   1023.57   \n",
       "2006-01-02 04:00:00              0.0                0.0   1023.31   \n",
       "\n",
       "                     temperature  uvIndex  visibility  windBearing  windSpeed  \\\n",
       "2006-01-02 00:00:00        36.81        0       10.00          246       1.75   \n",
       "2006-01-02 01:00:00        35.79        0       10.00          234       1.86   \n",
       "2006-01-02 02:00:00        35.67        0       10.00          216       1.55   \n",
       "2006-01-02 03:00:00        35.49        0        9.74          225       0.81   \n",
       "2006-01-02 04:00:00        35.66        0        9.68          216       0.63   \n",
       "\n",
       "                     Glo Mod (Wh/m^2)  Glo Mod Unc (%)  Dir Mod Unc (%)  \\\n",
       "2006-01-02 00:00:00                 0                0                0   \n",
       "2006-01-02 01:00:00                 0                0                0   \n",
       "2006-01-02 02:00:00                 0                0                0   \n",
       "2006-01-02 03:00:00                 0                0                0   \n",
       "2006-01-02 04:00:00                 0                0                0   \n",
       "\n",
       "                     Dif Mod Unc (%)  clear_sky  yesterday  avg_last_week  \\\n",
       "2006-01-02 00:00:00                0        0.0        0.0            NaN   \n",
       "2006-01-02 01:00:00                0        0.0        0.0            NaN   \n",
       "2006-01-02 02:00:00                0        0.0        0.0            NaN   \n",
       "2006-01-02 03:00:00                0        0.0        0.0            NaN   \n",
       "2006-01-02 04:00:00                0        0.0        0.0            NaN   \n",
       "\n",
       "                     last_week_median  \n",
       "2006-01-02 00:00:00               0.0  \n",
       "2006-01-02 01:00:00               0.0  \n",
       "2006-01-02 02:00:00               0.0  \n",
       "2006-01-02 03:00:00               0.0  \n",
       "2006-01-02 04:00:00               0.0  "
      ]
     },
     "execution_count": 6,
     "metadata": {},
     "output_type": "execute_result"
    }
   ],
   "source": [
    "newark_df.head()"
   ]
  },
  {
   "cell_type": "code",
   "execution_count": 7,
   "metadata": {
    "collapsed": false
   },
   "outputs": [],
   "source": [
    "from sklearn.model_selection import train_test_split\n",
    "newark_df = newark_df.dropna()\n",
    "X = newark_df.drop(columns=\"Glo Mod (Wh/m^2)\")\n",
    "y = newark_df.loc[:, [\"Glo Mod (Wh/m^2)\"]]\n",
    "\n",
    "X, X_test, y, y_test = train_test_split(X, y, test_size = 0.2, random_state=1)\n",
    "X_train, X_val, y_train, y_val = train_test_split(X, y, test_size = 0.1, random_state=1)"
   ]
  },
  {
   "cell_type": "code",
   "execution_count": 8,
   "metadata": {
    "collapsed": false
   },
   "outputs": [
    {
     "name": "stderr",
     "output_type": "stream",
     "text": [
      "/Users/jacksullivan/anaconda3/lib/python3.5/site-packages/ipykernel/__main__.py:4: DataConversionWarning: A column-vector y was passed when a 1d array was expected. Please change the shape of y to (n_samples,), for example using ravel().\n"
     ]
    },
    {
     "name": "stdout",
     "output_type": "stream",
     "text": [
      "Train Score:  0.9846640012266088\n",
      "Validation Score:  0.9032962706707295\n"
     ]
    }
   ],
   "source": [
    "from sklearn.ensemble import RandomForestRegressor\n",
    "\n",
    "rfr = RandomForestRegressor()\n",
    "rfr.fit(X_train, y_train)\n",
    "\n",
    "rfr_train_score = rfr.score(X_train, y_train)\n",
    "rfr_val_score = rfr.score(X_val, y_val)\n",
    "\n",
    "print('Train Score: ', rfr_train_score)\n",
    "print('Validation Score: ', rfr_val_score)"
   ]
  },
  {
   "cell_type": "markdown",
   "metadata": {},
   "source": [
    "To visualize what features are used for the largest splits, let's restrict the depth of the decision trees and visualize a tree with graphviz."
   ]
  },
  {
   "cell_type": "code",
   "execution_count": 9,
   "metadata": {
    "collapsed": false
   },
   "outputs": [
    {
     "name": "stderr",
     "output_type": "stream",
     "text": [
      "/Users/jacksullivan/anaconda3/lib/python3.5/site-packages/ipykernel/__main__.py:2: DataConversionWarning: A column-vector y was passed when a 1d array was expected. Please change the shape of y to (n_samples,), for example using ravel().\n",
      "  from ipykernel import kernelapp as app\n"
     ]
    }
   ],
   "source": [
    "rfr_limited_depth = RandomForestRegressor(max_depth=4)\n",
    "rfr_limited_depth.fit(X_train, y_train)\n",
    "\n",
    "# Extract single tree\n",
    "estimator = rfr_limited_depth.estimators_[5]"
   ]
  },
  {
   "cell_type": "markdown",
   "metadata": {},
   "source": [
    "Luckily, we can copy the code and visualize the tree on Webgraphviz. By running the following cell, you'll see a pretty long output -- follow the link and copy and paste the output to get a visualization of the decision tree we fit!"
   ]
  },
  {
   "cell_type": "code",
   "execution_count": 10,
   "metadata": {
    "collapsed": false
   },
   "outputs": [
    {
     "name": "stdout",
     "output_type": "stream",
     "text": [
      "digraph Tree {\n",
      "node [shape=box] ;\n",
      "0 [label=\"uvIndex <= 1.5\\nmse = 61228.514\\nsamples = 19684\\nvalue = 164.33\"] ;\n",
      "1 [label=\"avg_last_week <= 101.5\\nmse = 8569.531\\nsamples = 14260\\nvalue = 42.992\"] ;\n",
      "0 -> 1 [labeldistance=2.5, labelangle=45, headlabel=\"True\"] ;\n",
      "2 [label=\"avg_last_week <= 32.929\\nmse = 474.507\\nsamples = 11594\\nvalue = 6.845\"] ;\n",
      "1 -> 2 ;\n",
      "3 [label=\"avg_last_week <= 8.643\\nmse = 25.673\\nsamples = 10630\\nvalue = 1.277\"] ;\n",
      "2 -> 3 ;\n",
      "4 [label=\"mse = 2.19\\nsamples = 10093\\nvalue = 0.361\"] ;\n",
      "3 -> 4 ;\n",
      "5 [label=\"mse = 146.03\\nsamples = 537\\nvalue = 19.324\"] ;\n",
      "3 -> 5 ;\n",
      "6 [label=\"avg_last_week <= 70.786\\nmse = 1340.089\\nsamples = 964\\nvalue = 67.648\"] ;\n",
      "2 -> 6 ;\n",
      "7 [label=\"mse = 675.815\\nsamples = 572\\nvalue = 54.991\"] ;\n",
      "6 -> 7 ;\n",
      "8 [label=\"mse = 1735.139\\nsamples = 392\\nvalue = 86.339\"] ;\n",
      "6 -> 8 ;\n",
      "9 [label=\"cloudCover <= 0.855\\nmse = 13163.989\\nsamples = 2666\\nvalue = 201.882\"] ;\n",
      "1 -> 9 ;\n",
      "10 [label=\"clear_sky <= 734.675\\nmse = 11239.357\\nsamples = 1809\\nvalue = 243.271\"] ;\n",
      "9 -> 10 ;\n",
      "11 [label=\"mse = 4574.45\\nsamples = 1013\\nvalue = 184.69\"] ;\n",
      "10 -> 11 ;\n",
      "12 [label=\"mse = 10049.564\\nsamples = 796\\nvalue = 315.039\"] ;\n",
      "10 -> 12 ;\n",
      "13 [label=\"cloudCover <= 0.945\\nmse = 6010.857\\nsamples = 857\\nvalue = 114.711\"] ;\n",
      "9 -> 13 ;\n",
      "14 [label=\"mse = 9367.7\\nsamples = 166\\nvalue = 160.415\"] ;\n",
      "13 -> 14 ;\n",
      "15 [label=\"mse = 4759.819\\nsamples = 691\\nvalue = 105.003\"] ;\n",
      "13 -> 15 ;\n",
      "16 [label=\"uvIndex <= 4.5\\nmse = 60321.282\\nsamples = 5424\\nvalue = 479.85\"] ;\n",
      "0 -> 16 [labeldistance=2.5, labelangle=-45, headlabel=\"False\"] ;\n",
      "17 [label=\"cloudCover <= 0.805\\nmse = 34124.051\\nsamples = 3487\\nvalue = 366.964\"] ;\n",
      "16 -> 17 ;\n",
      "18 [label=\"clear_sky <= 742.521\\nmse = 22551.138\\nsamples = 2278\\nvalue = 450.403\"] ;\n",
      "17 -> 18 ;\n",
      "19 [label=\"mse = 11483.914\\nsamples = 411\\nvalue = 324.843\"] ;\n",
      "18 -> 19 ;\n",
      "20 [label=\"mse = 20760.565\\nsamples = 1867\\nvalue = 477.961\"] ;\n",
      "18 -> 20 ;\n",
      "21 [label=\"precipProbability <= 0.065\\nmse = 19140.162\\nsamples = 1209\\nvalue = 213.845\"] ;\n",
      "17 -> 21 ;\n",
      "22 [label=\"mse = 22536.242\\nsamples = 624\\nvalue = 265.66\"] ;\n",
      "21 -> 22 ;\n",
      "23 [label=\"mse = 9906.499\\nsamples = 585\\nvalue = 159.933\"] ;\n",
      "21 -> 23 ;\n",
      "24 [label=\"cloudCover <= 0.415\\nmse = 43549.724\\nsamples = 1937\\nvalue = 681.999\"] ;\n",
      "16 -> 24 ;\n",
      "25 [label=\"uvIndex <= 5.5\\nmse = 21231.28\\nsamples = 1255\\nvalue = 756.693\"] ;\n",
      "24 -> 25 ;\n",
      "26 [label=\"mse = 16579.545\\nsamples = 351\\nvalue = 651.035\"] ;\n",
      "25 -> 26 ;\n",
      "27 [label=\"mse = 16842.502\\nsamples = 904\\nvalue = 798.941\"] ;\n",
      "25 -> 27 ;\n",
      "28 [label=\"cloudCover <= 0.755\\nmse = 55417.246\\nsamples = 682\\nvalue = 543.704\"] ;\n",
      "24 -> 28 ;\n",
      "29 [label=\"mse = 50746.183\\nsamples = 512\\nvalue = 596.614\"] ;\n",
      "28 -> 29 ;\n",
      "30 [label=\"mse = 37352.476\\nsamples = 170\\nvalue = 390.454\"] ;\n",
      "28 -> 30 ;\n",
      "}\n"
     ]
    }
   ],
   "source": [
    "import graphviz\n",
    "from sklearn import tree\n",
    "\n",
    "print(tree.export_graphviz(estimator, feature_names=X.columns, out_file=None))"
   ]
  },
  {
   "cell_type": "markdown",
   "metadata": {},
   "source": [
    "We observe that uvIndex, avg_last_week, clear_sky, and cloudCover are among the most important features as they result in the best splits of data."
   ]
  },
  {
   "cell_type": "code",
   "execution_count": 11,
   "metadata": {
    "collapsed": false
   },
   "outputs": [
    {
     "data": {
      "text/plain": [
       "array([  0, 594, 269, ..., 182,   0,   0])"
      ]
     },
     "execution_count": 11,
     "metadata": {},
     "output_type": "execute_result"
    }
   ],
   "source": [
    "np.array(y_train).reshape(y_train.shape[0])"
   ]
  },
  {
   "cell_type": "code",
   "execution_count": 15,
   "metadata": {
    "collapsed": false
   },
   "outputs": [
    {
     "name": "stdout",
     "output_type": "stream",
     "text": [
      "{'min_samples_split': 20, 'n_estimators': 101, 'bootstrap': True, 'max_depth': None, 'max_features': 'sqrt'}\n"
     ]
    }
   ],
   "source": [
    "from sklearn.model_selection import RandomizedSearchCV\n",
    "\n",
    "# Number of trees in random forest\n",
    "n_estimators = [int(x) for x in np.linspace(start = 1, stop = 101, num = 5)]\n",
    "# Number of features to consider at every split\n",
    "max_features = ['auto', 'sqrt']\n",
    "# Maximum number of levels in tree\n",
    "max_depth = [int(x) for x in np.linspace(start = 1, stop = 9, num = 2)]\n",
    "max_depth.append(None)\n",
    "# Minimum number of samples required to split a node\n",
    "min_samples_split = [20, 100, 150, 200]\n",
    "# Minimum number of samples required at each leaf node\n",
    "# min_samples_leaf = [1, 2, 4]\n",
    "# Method of selecting samples for training each tree\n",
    "bootstrap = [True]\n",
    "# Create the random grid\n",
    "param_dict = {'n_estimators': n_estimators,\n",
    "               'max_features': max_features,\n",
    "               'max_depth': max_depth,\n",
    "               'min_samples_split': min_samples_split,\n",
    "#                'min_samples_leaf': min_samples_leaf,\n",
    "               'bootstrap': bootstrap}\n",
    "\n",
    "rf_random = RandomizedSearchCV(estimator = rfr, param_distributions = param_dict, n_iter = 50, cv = 10, random_state=42)\n",
    "# Fit the random search model\n",
    "rf_random.fit(X_train, np.array(y_train).reshape(y_train.shape[0]))\n",
    "\n",
    "print(rf_random.best_params_)"
   ]
  },
  {
   "cell_type": "code",
   "execution_count": 19,
   "metadata": {
    "collapsed": false
   },
   "outputs": [
    {
     "name": "stdout",
     "output_type": "stream",
     "text": [
      "{'min_samples_split': 2, 'n_estimators': 151, 'bootstrap': True, 'max_depth': None, 'max_features': 'sqrt'}\n"
     ]
    }
   ],
   "source": [
    "from sklearn.model_selection import RandomizedSearchCV\n",
    "\n",
    "# Number of trees in random forest\n",
    "n_estimators = [int(x) for x in np.linspace(start = 121, stop = 151, num = 5)]\n",
    "# Number of features to consider at every split\n",
    "max_features = ['auto', 'sqrt']\n",
    "# Maximum number of levels in tree\n",
    "max_depth = [int(x) for x in np.linspace(start = 1, stop = 9, num = 2)]\n",
    "max_depth.append(None)\n",
    "# Minimum number of samples required to split a node\n",
    "min_samples_split = [2, 10, 15, 20]\n",
    "# Minimum number of samples required at each leaf node\n",
    "# min_samples_leaf = [1, 2, 4]\n",
    "# Method of selecting samples for training each tree\n",
    "bootstrap = [True]\n",
    "# Create the random grid\n",
    "param_dict = {'n_estimators': n_estimators,\n",
    "               'max_features': max_features,\n",
    "               'max_depth': max_depth,\n",
    "               'min_samples_split': min_samples_split,\n",
    "#                'min_samples_leaf': min_samples_leaf,\n",
    "               'bootstrap': bootstrap}\n",
    "\n",
    "rf_random = RandomizedSearchCV(estimator = rfr, param_distributions = param_dict, n_iter = 50, cv = 10, random_state=42)\n",
    "# Fit the random search model\n",
    "rf_random.fit(X_train, np.array(y_train).reshape(y_train.shape[0]))\n",
    "\n",
    "print(rf_random.best_params_)"
   ]
  },
  {
   "cell_type": "code",
   "execution_count": 20,
   "metadata": {
    "collapsed": false
   },
   "outputs": [
    {
     "name": "stderr",
     "output_type": "stream",
     "text": [
      "/Users/jacksullivan/anaconda3/lib/python3.5/site-packages/ipykernel/__main__.py:3: DataConversionWarning: A column-vector y was passed when a 1d array was expected. Please change the shape of y to (n_samples,), for example using ravel().\n",
      "  app.launch_new_instance()\n"
     ]
    },
    {
     "name": "stdout",
     "output_type": "stream",
     "text": [
      "Train Score:  0.9895279164183135\n",
      "Validation Score:  0.9134403399892788\n"
     ]
    }
   ],
   "source": [
    "# With best params found above\n",
    "rfr_tree = RandomForestRegressor(n_estimators=151, min_samples_split=2, max_features='sqrt', max_depth=None, bootstrap=True)\n",
    "rfr_tree.fit(X_train, y_train)\n",
    "\n",
    "rfr_train_score = rfr_tree.score(X_train, y_train)\n",
    "rfr_val_score = rfr_tree.score(X_val, y_val)\n",
    "\n",
    "print('Train Score: ', rfr_train_score)\n",
    "print('Validation Score: ', rfr_val_score)"
   ]
  },
  {
   "cell_type": "code",
   "execution_count": null,
   "metadata": {
    "collapsed": true
   },
   "outputs": [],
   "source": []
  }
 ],
 "metadata": {
  "anaconda-cloud": {},
  "kernelspec": {
   "display_name": "Python [conda env:anaconda3]",
   "language": "python",
   "name": "conda-env-anaconda3-py"
  },
  "language_info": {
   "codemirror_mode": {
    "name": "ipython",
    "version": 3
   },
   "file_extension": ".py",
   "mimetype": "text/x-python",
   "name": "python",
   "nbconvert_exporter": "python",
   "pygments_lexer": "ipython3",
   "version": "3.5.2"
  },
  "toc": {
   "base_numbering": 1,
   "nav_menu": {},
   "number_sections": true,
   "sideBar": true,
   "skip_h1_title": false,
   "title_cell": "Table of Contents",
   "title_sidebar": "Contents",
   "toc_cell": false,
   "toc_position": {},
   "toc_section_display": true,
   "toc_window_display": false
  }
 },
 "nbformat": 4,
 "nbformat_minor": 1
}
