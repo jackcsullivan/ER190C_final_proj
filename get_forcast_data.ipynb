{
 "cells": [
  {
   "cell_type": "markdown",
   "metadata": {},
   "source": [
    "The purpose of this file is to get the forecast data for tomorrow"
   ]
  },
  {
   "cell_type": "code",
   "execution_count": 23,
   "metadata": {},
   "outputs": [],
   "source": [
    "import weather\n",
    "import pandas as pd\n",
    "import datetime as dt     "
   ]
  },
  {
   "cell_type": "code",
   "execution_count": 24,
   "metadata": {},
   "outputs": [],
   "source": [
    "timestamp_str = str(pd.to_datetime(dt.date.today()) + pd.to_timedelta(1, unit='D'))"
   ]
  },
  {
   "cell_type": "code",
   "execution_count": 25,
   "metadata": {},
   "outputs": [
    {
     "data": {
      "text/html": [
       "<div>\n",
       "<style scoped>\n",
       "    .dataframe tbody tr th:only-of-type {\n",
       "        vertical-align: middle;\n",
       "    }\n",
       "\n",
       "    .dataframe tbody tr th {\n",
       "        vertical-align: top;\n",
       "    }\n",
       "\n",
       "    .dataframe thead th {\n",
       "        text-align: right;\n",
       "    }\n",
       "</style>\n",
       "<table border=\"1\" class=\"dataframe\">\n",
       "  <thead>\n",
       "    <tr style=\"text-align: right;\">\n",
       "      <th></th>\n",
       "      <th>id</th>\n",
       "      <th>name</th>\n",
       "      <th>lat</th>\n",
       "      <th>lon</th>\n",
       "      <th>altitude (m)</th>\n",
       "    </tr>\n",
       "  </thead>\n",
       "  <tbody>\n",
       "    <tr>\n",
       "      <th>0</th>\n",
       "      <td>725035</td>\n",
       "      <td>Macarthur</td>\n",
       "      <td>40.783</td>\n",
       "      <td>-73.100</td>\n",
       "      <td>3</td>\n",
       "    </tr>\n",
       "    <tr>\n",
       "      <th>1</th>\n",
       "      <td>725020</td>\n",
       "      <td>EWR</td>\n",
       "      <td>40.717</td>\n",
       "      <td>-74.183</td>\n",
       "      <td>3</td>\n",
       "    </tr>\n",
       "    <tr>\n",
       "      <th>2</th>\n",
       "      <td>744860</td>\n",
       "      <td>JFK</td>\n",
       "      <td>40.650</td>\n",
       "      <td>-73.800</td>\n",
       "      <td>5</td>\n",
       "    </tr>\n",
       "    <tr>\n",
       "      <th>3</th>\n",
       "      <td>725030</td>\n",
       "      <td>LAG</td>\n",
       "      <td>40.783</td>\n",
       "      <td>-70.883</td>\n",
       "      <td>3</td>\n",
       "    </tr>\n",
       "    <tr>\n",
       "      <th>4</th>\n",
       "      <td>725040</td>\n",
       "      <td>Bridgeport</td>\n",
       "      <td>41.183</td>\n",
       "      <td>-73.150</td>\n",
       "      <td>3</td>\n",
       "    </tr>\n",
       "  </tbody>\n",
       "</table>\n",
       "</div>"
      ],
      "text/plain": [
       "       id        name     lat     lon  altitude (m)\n",
       "0  725035   Macarthur  40.783 -73.100             3\n",
       "1  725020         EWR  40.717 -74.183             3\n",
       "2  744860         JFK  40.650 -73.800             5\n",
       "3  725030         LAG  40.783 -70.883             3\n",
       "4  725040  Bridgeport  41.183 -73.150             3"
      ]
     },
     "execution_count": 25,
     "metadata": {},
     "output_type": "execute_result"
    }
   ],
   "source": [
    "stations = pd.read_csv('stations.csv')\n",
    "stations.head()"
   ]
  },
  {
   "cell_type": "code",
   "execution_count": 26,
   "metadata": {},
   "outputs": [],
   "source": [
    "data = {}\n",
    "for i in range(len(stations)):\n",
    "    station = stations.iloc[i]\n",
    "    name = station['name']\n",
    "    lat = station['lat']\n",
    "    lon = station['lon']\n",
    "    data[name] = weather.get_hourly_weather(lat, lon, timestamp_str, tz='US/Eastern')"
   ]
  },
  {
   "cell_type": "code",
   "execution_count": 32,
   "metadata": {},
   "outputs": [],
   "source": [
    "for station in data.keys():\n",
    "    df = pd.DataFrame(data[station])\n",
    "    df.to_csv('./data/forecasts/' + station + timestamp_str +'.csv')"
   ]
  },
  {
   "cell_type": "code",
   "execution_count": null,
   "metadata": {},
   "outputs": [],
   "source": []
  }
 ],
 "metadata": {
  "kernelspec": {
   "display_name": "medium-xXExZUyx",
   "language": "python",
   "name": "medium-xxexzuyx"
  },
  "language_info": {
   "codemirror_mode": {
    "name": "ipython",
    "version": 3
   },
   "file_extension": ".py",
   "mimetype": "text/x-python",
   "name": "python",
   "nbconvert_exporter": "python",
   "pygments_lexer": "ipython3",
   "version": "3.7.0"
  }
 },
 "nbformat": 4,
 "nbformat_minor": 2
}
